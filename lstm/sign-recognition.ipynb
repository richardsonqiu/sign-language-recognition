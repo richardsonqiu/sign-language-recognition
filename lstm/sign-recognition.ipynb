{
 "cells": [
  {
   "cell_type": "markdown",
   "metadata": {},
   "source": [
    "# 1. Imports and Seed"
   ]
  },
  {
   "cell_type": "code",
   "execution_count": 1,
   "metadata": {},
   "outputs": [],
   "source": [
    "import cv2\n",
    "import numpy as np\n",
    "import os\n",
    "from matplotlib import pyplot as plt\n",
    "import time\n",
    "import mediapipe as mp\n",
    "import random\n",
    "import tensorflow as tf\n",
    "import math\n",
    "from numba import jit\n",
    "import wandb"
   ]
  },
  {
   "cell_type": "code",
   "execution_count": 2,
   "metadata": {},
   "outputs": [
    {
     "name": "stdout",
     "output_type": "stream",
     "text": [
      "Num GPUs Available:  1\n",
      "[PhysicalDevice(name='/physical_device:CPU:0', device_type='CPU'), PhysicalDevice(name='/physical_device:GPU:0', device_type='GPU')]\n"
     ]
    }
   ],
   "source": [
    "import tensorflow as tf\n",
    "print(\"Num GPUs Available: \", len(tf.config.list_physical_devices('GPU')))\n",
    "print(tf.config.list_physical_devices())"
   ]
  },
  {
   "cell_type": "code",
   "execution_count": 4,
   "metadata": {},
   "outputs": [
    {
     "data": {
      "text/plain": [
       "'/device:GPU:0'"
      ]
     },
     "execution_count": 4,
     "metadata": {},
     "output_type": "execute_result"
    }
   ],
   "source": [
    "tf.test.gpu_device_name()"
   ]
  },
  {
   "cell_type": "code",
   "execution_count": 5,
   "metadata": {},
   "outputs": [
    {
     "name": "stdout",
     "output_type": "stream",
     "text": [
      "1 Physical GPUs, 1 Logical GPU\n",
      "[LogicalDevice(name='/device:GPU:0', device_type='GPU')]\n",
      "[PhysicalDevice(name='/physical_device:GPU:0', device_type='GPU')]\n"
     ]
    }
   ],
   "source": [
    "gpus = tf.config.list_physical_devices('GPU')\n",
    "if gpus:\n",
    "  # Restrict TensorFlow to only use the first GPU\n",
    "  try:\n",
    "    tf.config.set_visible_devices(gpus[0], 'GPU')\n",
    "    logical_gpus = tf.config.list_logical_devices('GPU')\n",
    "    print(len(gpus), \"Physical GPUs,\", len(logical_gpus), \"Logical GPU\")\n",
    "    print(logical_gpus)\n",
    "    print(gpus)\n",
    "  except RuntimeError as e:\n",
    "    # Visible devices must be set before GPUs have been initialized\n",
    "    print(e)"
   ]
  },
  {
   "cell_type": "code",
   "execution_count": 6,
   "metadata": {},
   "outputs": [],
   "source": [
    "def seed_everything(seed):\n",
    "  random.seed(seed)\n",
    "  os.environ['PYTHONHASHSEED'] = str(seed)\n",
    "  np.random.seed(seed)\n",
    "  tf.random.set_seed(seed)\n",
    "\n",
    "SEED = 22\n",
    "seed_everything(seed=SEED)"
   ]
  },
  {
   "cell_type": "markdown",
   "metadata": {},
   "source": [
    "# 2. Keypoints using MP Holistic"
   ]
  },
  {
   "cell_type": "code",
   "execution_count": 7,
   "metadata": {},
   "outputs": [],
   "source": [
    "mp_holistic = mp.solutions.holistic # Holistic model\n",
    "mp_drawing = mp.solutions.drawing_utils # Drawing utilities"
   ]
  },
  {
   "cell_type": "code",
   "execution_count": 8,
   "metadata": {},
   "outputs": [],
   "source": [
    "def mediapipe_detection(image, model):\n",
    "    image = cv2.cvtColor(image, cv2.COLOR_BGR2RGB) # COLOR CONVERSION BGR 2 RGB\n",
    "    image.flags.writeable = False                  # Image is no longer writeable\n",
    "    results = model.process(image)                 # Make prediction\n",
    "    image.flags.writeable = True                   # Image is now writeable \n",
    "    image = cv2.cvtColor(image, cv2.COLOR_RGB2BGR) # COLOR COVERSION RGB 2 BGR\n",
    "    return image, results"
   ]
  },
  {
   "cell_type": "code",
   "execution_count": 9,
   "metadata": {},
   "outputs": [],
   "source": [
    "def draw_landmarks(image, results):\n",
    "    # mp_drawing.draw_landmarks(image, results.face_landmarks, mp_holistic.FACEMESH_TESSELATION) # Draw face connections\n",
    "    mp_drawing.draw_landmarks(image, results.face_landmarks, mp_holistic.FACEMESH_CONTOURS) # Draw face connections\n",
    "    mp_drawing.draw_landmarks(image, results.pose_landmarks, mp_holistic.POSE_CONNECTIONS) # Draw pose connections\n",
    "    mp_drawing.draw_landmarks(image, results.left_hand_landmarks, mp_holistic.HAND_CONNECTIONS) # Draw left hand connections\n",
    "    mp_drawing.draw_landmarks(image, results.right_hand_landmarks, mp_holistic.HAND_CONNECTIONS) # Draw right hand connections"
   ]
  },
  {
   "cell_type": "code",
   "execution_count": 10,
   "metadata": {},
   "outputs": [],
   "source": [
    "def draw_styled_landmarks(image, results):\n",
    "    # # Draw face connections\n",
    "    mp_drawing.draw_landmarks(image, results.face_landmarks, mp_holistic.FACEMESH_CONTOURS, \n",
    "                             mp_drawing.DrawingSpec(color=(80,110,10), thickness=1, circle_radius=1), \n",
    "                             mp_drawing.DrawingSpec(color=(80,256,121), thickness=1, circle_radius=1)\n",
    "                             ) \n",
    "    # Draw pose connections\n",
    "    mp_drawing.draw_landmarks(image, results.pose_landmarks, mp_holistic.POSE_CONNECTIONS,\n",
    "                             mp_drawing.DrawingSpec(color=(80,22,10), thickness=2, circle_radius=4), \n",
    "                             mp_drawing.DrawingSpec(color=(80,44,121), thickness=2, circle_radius=2)\n",
    "                             ) \n",
    "    # Draw left hand connections\n",
    "    mp_drawing.draw_landmarks(image, results.left_hand_landmarks, mp_holistic.HAND_CONNECTIONS, \n",
    "                             mp_drawing.DrawingSpec(color=(121,22,76), thickness=2, circle_radius=4), \n",
    "                             mp_drawing.DrawingSpec(color=(121,44,250), thickness=2, circle_radius=2)\n",
    "                             ) \n",
    "    # Draw right hand connections  \n",
    "    mp_drawing.draw_landmarks(image, results.right_hand_landmarks, mp_holistic.HAND_CONNECTIONS, \n",
    "                             mp_drawing.DrawingSpec(color=(245,117,66), thickness=2, circle_radius=4), \n",
    "                             mp_drawing.DrawingSpec(color=(245,66,230), thickness=2, circle_radius=2)\n",
    "                             ) "
   ]
  },
  {
   "cell_type": "markdown",
   "metadata": {},
   "source": [
    "# 3. Extract Keypoint Values"
   ]
  },
  {
   "cell_type": "code",
   "execution_count": 11,
   "metadata": {},
   "outputs": [],
   "source": [
    "# Original extracts\n",
    "def extract_keypoints(results):\n",
    "    pose = np.array([[res.x, res.y, res.z, res.visibility] for res in results.pose_landmarks.landmark]).flatten() if results.pose_landmarks else np.zeros(33*4)\n",
    "    face = np.array([[res.x, res.y, res.z] for res in results.face_landmarks.landmark]).flatten() if results.face_landmarks else np.zeros(468*3)\n",
    "    lh = np.array([[res.x, res.y, res.z] for res in results.left_hand_landmarks.landmark]).flatten() if results.left_hand_landmarks else np.zeros(21*3)\n",
    "    rh = np.array([[res.x, res.y, res.z] for res in results.right_hand_landmarks.landmark]).flatten() if results.right_hand_landmarks else np.zeros(21*3)\n",
    "    return np.concatenate([pose, face, lh, rh])\n",
    "\n",
    "# Augment flip\n",
    "def extract_keypoints_flip(results):\n",
    "    pose = np.array([[1-res.x, res.y, res.z, res.visibility] for res in results.pose_landmarks.landmark]).flatten() if results.pose_landmarks else np.zeros(33*4)\n",
    "    face = np.array([[1-res.x, res.y, res.z] for res in results.face_landmarks.landmark]).flatten() if results.face_landmarks else np.zeros(468*3)\n",
    "    lh = np.array([[1-res.x, res.y, res.z] for res in results.left_hand_landmarks.landmark]).flatten() if results.left_hand_landmarks else np.zeros(21*3)\n",
    "    rh = np.array([[1-res.x, res.y, res.z] for res in results.right_hand_landmarks.landmark]).flatten() if results.right_hand_landmarks else np.zeros(21*3)\n",
    "    return np.concatenate([pose, face, lh, rh])\n",
    "\n",
    "# def a(results):    \n",
    "#     pose = []\n",
    "#     if results.pose_landmarks:\n",
    "#         for res in results.pose_landmarks.landmark:\n",
    "#             test = np.array([res.x, res.y, res.z, res.visibility])\n",
    "#             pose.append(test)\n",
    "#     else:\n",
    "#         pose.append(np.zeros(33*4))\n",
    "\n",
    "# Augment translation\n",
    "def extract_keypoints_trans(results, transx, transy):\n",
    "    pose = np.array([[res.x + transx, res.y + transy, res.z, res.visibility] for res in results.pose_landmarks.landmark]).flatten() if results.pose_landmarks else np.zeros(33*4)\n",
    "    face = np.array([[res.x + transx, res.y + transy, res.z] for res in results.face_landmarks.landmark]).flatten() if results.face_landmarks else np.zeros(468*3)\n",
    "    lh = np.array([[res.x + transx, res.y + transy, res.z] for res in results.left_hand_landmarks.landmark]).flatten() if results.left_hand_landmarks else np.zeros(21*3)\n",
    "    rh = np.array([[res.x + transx, res.y + transy, res.z] for res in results.right_hand_landmarks.landmark]).flatten() if results.right_hand_landmarks else np.zeros(21*3)\n",
    "    return np.concatenate([pose, face, lh, rh])\n"
   ]
  },
  {
   "cell_type": "markdown",
   "metadata": {},
   "source": [
    "# 4. Collect Keypoint Values"
   ]
  },
  {
   "cell_type": "code",
   "execution_count": 12,
   "metadata": {},
   "outputs": [
    {
     "name": "stdout",
     "output_type": "stream",
     "text": [
      "exists\n"
     ]
    }
   ],
   "source": [
    "ASL_ORI_PATH = 'videos'\n",
    "ASL_MP_PATH = 'data'\n",
    "\n",
    "actions = os.listdir(ASL_ORI_PATH)\n",
    "augments = ['original', 'flip']\n",
    "\n",
    "for i in range(8):\n",
    "  augments.append('trans{}'.format(i))\n",
    "\n",
    "if not os.path.exists(ASL_MP_PATH):\n",
    "  print(\"create dir\")\n",
    "  os.makedirs(os.path.join(ASL_MP_PATH))\n",
    "else:\n",
    "  print(\"exists\")"
   ]
  },
  {
   "cell_type": "code",
   "execution_count": 13,
   "metadata": {},
   "outputs": [],
   "source": [
    "for action in actions:\n",
    "  for augment in augments:\n",
    "    try:\n",
    "      os.makedirs(os.path.join(ASL_MP_PATH, action, augment))\n",
    "      \n",
    "      lendir = len((os.listdir(os.path.join(ASL_ORI_PATH, action))))\n",
    "      for video in range(1, lendir+1):\n",
    "        try:\n",
    "          os.makedirs(os.path.join(ASL_MP_PATH, action, augment, str(video)))\n",
    "        except:\n",
    "          pass\n",
    "    except:\n",
    "      pass"
   ]
  },
  {
   "cell_type": "code",
   "execution_count": 14,
   "metadata": {},
   "outputs": [],
   "source": [
    "max_frames = 64"
   ]
  },
  {
   "cell_type": "code",
   "execution_count": 15,
   "metadata": {},
   "outputs": [
    {
     "name": "stdout",
     "output_type": "stream",
     "text": [
      "====================\n",
      "deaf\n"
     ]
    }
   ],
   "source": [
    "seed_everything(seed=SEED)\n",
    "\n",
    "with mp_holistic.Holistic(min_detection_confidence=0.5, min_tracking_confidence=0.5) as holistic:\n",
    "  \n",
    "  for action in actions:\n",
    "    print(\"=\" * 20)\n",
    "    print(action)\n",
    "    video_dir_list = os.listdir(os.path.join(ASL_ORI_PATH, action))\n",
    "    \n",
    "    for video_idx, video in enumerate(video_dir_list):\n",
    "      cap = cv2.VideoCapture(os.path.join(ASL_ORI_PATH, action, video))\n",
    "      len_video = int(cap.get(cv2.CAP_PROP_FRAME_COUNT))\n",
    "      \n",
    "      if len_video > max_frames: # if video longer\n",
    "        seed_everything(seed=SEED)\n",
    "        sample_frames = sorted(random.sample(range(0, len_video), max_frames))\n",
    "      else: # shorter\n",
    "        diff = max_frames - len_video\n",
    "        begin = [1 for i in range(math.floor(diff/2))] # repeat first frame \n",
    "        mid = [i+1 for i in range(len_video)] # real frames\n",
    "        end = [len_video for i in range(max_frames - len(begin) - len(mid))] # repeat rest of end frames until 64 frames\n",
    "        sample_frames = begin + mid + end\n",
    "        \n",
    "      # Read sample 64 frames\n",
    "      for frame_idx, frame_num in enumerate(sample_frames):\n",
    "        cap.set(cv2.CAP_PROP_POS_FRAMES, frame_num-1)\n",
    "        ret, frame = cap.read()\n",
    "\n",
    "        # Make detections\n",
    "        image, results = mediapipe_detection(frame, holistic)\n",
    "        \n",
    "        ori_keypoints = extract_keypoints(results)\n",
    "        npy_path = os.path.join(ASL_MP_PATH, action, 'original', str(video_idx+1), str(frame_idx))\n",
    "        np.save(npy_path, ori_keypoints)\n",
    "        \n",
    "        # Augment flip\n",
    "        flip_keypoints = extract_keypoints_flip(results)\n",
    "        npy_path = os.path.join(ASL_MP_PATH, action, 'flip', str(video_idx+1), str(frame_idx))\n",
    "        np.save(npy_path, flip_keypoints)\n",
    "        \n",
    "        # Augment translation\n",
    "        trans = 0.2\n",
    "        trans_list = [[trans, 0], [0, trans], [-trans, 0], [0, -trans], [trans, trans], [-trans, trans], [-trans, -trans], [trans, -trans]]\n",
    "        for idx, item in enumerate(trans_list):\n",
    "          trans_keypoints = extract_keypoints_trans(results, item[0], item[1])\n",
    "          npy_path = os.path.join(ASL_MP_PATH, action, 'trans{}'.format(idx), str(video_idx+1), str(frame_idx))\n",
    "          np.save(npy_path, trans_keypoints)\n",
    "        \n",
    "                \n",
    "        # Break gracefully\n",
    "        if cv2.waitKey(10) & 0xFF == ord('q'):\n",
    "          break\n",
    "  cap.release()\n",
    "\n",
    "      "
   ]
  },
  {
   "cell_type": "code",
   "execution_count": null,
   "metadata": {},
   "outputs": [],
   "source": []
  },
  {
   "cell_type": "markdown",
   "metadata": {},
   "source": [
    "# 6. Preprocess Data and Create Labels and Features"
   ]
  },
  {
   "cell_type": "code",
   "execution_count": 15,
   "metadata": {},
   "outputs": [],
   "source": [
    "from sklearn.model_selection import train_test_split\n",
    "from tensorflow.keras.utils import to_categorical"
   ]
  },
  {
   "cell_type": "code",
   "execution_count": 16,
   "metadata": {},
   "outputs": [],
   "source": [
    "label_map = {label:num for num, label in enumerate(actions)}"
   ]
  },
  {
   "cell_type": "code",
   "execution_count": 17,
   "metadata": {},
   "outputs": [
    {
     "data": {
      "text/plain": [
       "{'deaf': 0,\n",
       " 'fine': 1,\n",
       " 'good_morning': 2,\n",
       " 'hearing': 3,\n",
       " 'hello': 4,\n",
       " 'i_love_you': 5,\n",
       " 'nice_to_meet_you': 6,\n",
       " 'no': 7,\n",
       " 'thanks': 8,\n",
       " 'yes': 9}"
      ]
     },
     "execution_count": 17,
     "metadata": {},
     "output_type": "execute_result"
    }
   ],
   "source": [
    "label_map"
   ]
  },
  {
   "cell_type": "code",
   "execution_count": 18,
   "metadata": {},
   "outputs": [],
   "source": [
    "import re\n",
    "def sorted_alphanumeric(data):\n",
    "    convert = lambda text: int(text) if text.isdigit() else text.lower()\n",
    "    alphanum_key = lambda key: [ convert(c) for c in re.split('([0-9]+)', key) ] \n",
    "    return sorted(data, key=alphanum_key)"
   ]
  },
  {
   "cell_type": "markdown",
   "metadata": {},
   "source": [
    "## a. Original Data"
   ]
  },
  {
   "cell_type": "code",
   "execution_count": 19,
   "metadata": {},
   "outputs": [
    {
     "name": "stdout",
     "output_type": "stream",
     "text": [
      "=================\n",
      "deaf original\n",
      "=================\n",
      "fine original\n",
      "=================\n",
      "good_morning original\n",
      "=================\n",
      "hearing original\n",
      "=================\n",
      "hello original\n",
      "=================\n",
      "i_love_you original\n",
      "=================\n",
      "nice_to_meet_you original\n",
      "=================\n",
      "no original\n",
      "=================\n",
      "thanks original\n",
      "=================\n",
      "yes original\n"
     ]
    }
   ],
   "source": [
    "features, labels = [], []\n",
    "for action in actions:\n",
    "  for augment in augments:\n",
    "    if augment == \"original\":\n",
    "      video_dir_list = os.listdir(os.path.join(ASL_MP_PATH, action, augment))\n",
    "    \n",
    "      print('=================')\n",
    "      print(action, augment)  \n",
    "      for index, video in enumerate(video_dir_list):\n",
    "        window = []\n",
    "        # print('video:', video)\n",
    "        \n",
    "        frame_list = sorted_alphanumeric(os.listdir(os.path.join(ASL_MP_PATH, action, augment, video)))\n",
    "            \n",
    "        # Append frames\n",
    "        for frame_num in frame_list:\n",
    "          res = np.load(os.path.join(ASL_MP_PATH, action, augment, video, frame_num))\n",
    "          window.append(res.tolist())\n",
    "        features.append(window)\n",
    "        labels.append(label_map[action])"
   ]
  },
  {
   "cell_type": "code",
   "execution_count": 20,
   "metadata": {},
   "outputs": [
    {
     "data": {
      "text/plain": [
       "(319, 64, 1662)"
      ]
     },
     "execution_count": 20,
     "metadata": {},
     "output_type": "execute_result"
    }
   ],
   "source": [
    "np.array(features).shape"
   ]
  },
  {
   "cell_type": "code",
   "execution_count": 21,
   "metadata": {},
   "outputs": [
    {
     "data": {
      "text/plain": [
       "(319,)"
      ]
     },
     "execution_count": 21,
     "metadata": {},
     "output_type": "execute_result"
    }
   ],
   "source": [
    "np.array(labels).shape"
   ]
  },
  {
   "cell_type": "code",
   "execution_count": 24,
   "metadata": {},
   "outputs": [
    {
     "data": {
      "text/plain": [
       "(319, 64, 1662)"
      ]
     },
     "execution_count": 24,
     "metadata": {},
     "output_type": "execute_result"
    }
   ],
   "source": [
    "X = np.array(features)\n",
    "X.shape"
   ]
  },
  {
   "cell_type": "code",
   "execution_count": 25,
   "metadata": {},
   "outputs": [
    {
     "data": {
      "text/plain": [
       "(319, 10)"
      ]
     },
     "execution_count": 25,
     "metadata": {},
     "output_type": "execute_result"
    }
   ],
   "source": [
    "y = to_categorical(labels).astype(int)\n",
    "y.shape"
   ]
  },
  {
   "cell_type": "code",
   "execution_count": 26,
   "metadata": {},
   "outputs": [],
   "source": [
    "np.save('Xy/X-ori', X)"
   ]
  },
  {
   "cell_type": "code",
   "execution_count": 27,
   "metadata": {},
   "outputs": [],
   "source": [
    "np.save('Xy/y-ori', y)"
   ]
  },
  {
   "cell_type": "code",
   "execution_count": 72,
   "metadata": {},
   "outputs": [],
   "source": [
    "# X = np.load('Xy/X.npy')\n",
    "# y = np.load('Xy/y.npy')"
   ]
  },
  {
   "cell_type": "code",
   "execution_count": 28,
   "metadata": {},
   "outputs": [],
   "source": [
    "seed_everything(seed=SEED)\n",
    "X_train, X_test, y_train, y_test = train_test_split(X, y, test_size=0.05, stratify=y, random_state=SEED)"
   ]
  },
  {
   "cell_type": "code",
   "execution_count": 29,
   "metadata": {},
   "outputs": [],
   "source": [
    "seed_everything(seed=SEED)\n",
    "X_train, X_val, y_train, y_val = train_test_split(X_train, y_train, stratify=y_train, test_size=0.075, random_state=SEED)"
   ]
  },
  {
   "cell_type": "code",
   "execution_count": 30,
   "metadata": {},
   "outputs": [
    {
     "name": "stdout",
     "output_type": "stream",
     "text": [
      "(280, 64, 1662)\n",
      "(23, 64, 1662)\n",
      "(16, 64, 1662)\n",
      "(280, 10)\n"
     ]
    }
   ],
   "source": [
    "print(X_train.shape)\n",
    "print(X_val.shape)\n",
    "print(X_test.shape)\n",
    "print(y_train.shape)"
   ]
  },
  {
   "cell_type": "markdown",
   "metadata": {},
   "source": [
    "## b. Augment Data"
   ]
  },
  {
   "cell_type": "code",
   "execution_count": 28,
   "metadata": {},
   "outputs": [
    {
     "name": "stdout",
     "output_type": "stream",
     "text": [
      "=================\n",
      "deaf flip\n",
      "=================\n",
      "deaf trans0\n",
      "=================\n",
      "deaf trans1\n",
      "=================\n",
      "deaf trans2\n",
      "=================\n",
      "deaf trans3\n",
      "=================\n",
      "deaf trans4\n",
      "=================\n",
      "deaf trans5\n",
      "=================\n",
      "deaf trans6\n",
      "=================\n",
      "deaf trans7\n",
      "=================\n",
      "fine flip\n",
      "=================\n",
      "fine trans0\n",
      "=================\n",
      "fine trans1\n",
      "=================\n",
      "fine trans2\n",
      "=================\n",
      "fine trans3\n",
      "=================\n",
      "fine trans4\n",
      "=================\n",
      "fine trans5\n",
      "=================\n",
      "fine trans6\n",
      "=================\n",
      "fine trans7\n",
      "=================\n",
      "good_morning flip\n",
      "=================\n",
      "good_morning trans0\n",
      "=================\n",
      "good_morning trans1\n",
      "=================\n",
      "good_morning trans2\n",
      "=================\n",
      "good_morning trans3\n",
      "=================\n",
      "good_morning trans4\n",
      "=================\n",
      "good_morning trans5\n",
      "=================\n",
      "good_morning trans6\n",
      "=================\n",
      "good_morning trans7\n",
      "=================\n",
      "hearing flip\n",
      "=================\n",
      "hearing trans0\n",
      "=================\n",
      "hearing trans1\n",
      "=================\n",
      "hearing trans2\n",
      "=================\n",
      "hearing trans3\n",
      "=================\n",
      "hearing trans4\n",
      "=================\n",
      "hearing trans5\n",
      "=================\n",
      "hearing trans6\n",
      "=================\n",
      "hearing trans7\n",
      "=================\n",
      "hello flip\n",
      "=================\n",
      "hello trans0\n",
      "=================\n",
      "hello trans1\n",
      "=================\n",
      "hello trans2\n",
      "=================\n",
      "hello trans3\n",
      "=================\n",
      "hello trans4\n",
      "=================\n",
      "hello trans5\n",
      "=================\n",
      "hello trans6\n",
      "=================\n",
      "hello trans7\n",
      "=================\n",
      "i_love_you flip\n",
      "=================\n",
      "i_love_you trans0\n",
      "=================\n",
      "i_love_you trans1\n",
      "=================\n",
      "i_love_you trans2\n",
      "=================\n",
      "i_love_you trans3\n",
      "=================\n",
      "i_love_you trans4\n",
      "=================\n",
      "i_love_you trans5\n",
      "=================\n",
      "i_love_you trans6\n",
      "=================\n",
      "i_love_you trans7\n",
      "=================\n",
      "nice_to_meet_you flip\n",
      "=================\n",
      "nice_to_meet_you trans0\n",
      "=================\n",
      "nice_to_meet_you trans1\n",
      "=================\n",
      "nice_to_meet_you trans2\n",
      "=================\n",
      "nice_to_meet_you trans3\n",
      "=================\n",
      "nice_to_meet_you trans4\n",
      "=================\n",
      "nice_to_meet_you trans5\n",
      "=================\n",
      "nice_to_meet_you trans6\n",
      "=================\n",
      "nice_to_meet_you trans7\n",
      "=================\n",
      "no flip\n",
      "=================\n",
      "no trans0\n",
      "=================\n",
      "no trans1\n",
      "=================\n",
      "no trans2\n",
      "=================\n",
      "no trans3\n",
      "=================\n",
      "no trans4\n",
      "=================\n",
      "no trans5\n",
      "=================\n",
      "no trans6\n",
      "=================\n",
      "no trans7\n",
      "=================\n",
      "thanks flip\n",
      "=================\n",
      "thanks trans0\n",
      "=================\n",
      "thanks trans1\n",
      "=================\n",
      "thanks trans2\n",
      "=================\n",
      "thanks trans3\n",
      "=================\n",
      "thanks trans4\n",
      "=================\n",
      "thanks trans5\n",
      "=================\n",
      "thanks trans6\n",
      "=================\n",
      "thanks trans7\n",
      "=================\n",
      "yes flip\n",
      "=================\n",
      "yes trans0\n",
      "=================\n",
      "yes trans1\n",
      "=================\n",
      "yes trans2\n",
      "=================\n",
      "yes trans3\n",
      "=================\n",
      "yes trans4\n",
      "=================\n",
      "yes trans5\n",
      "=================\n",
      "yes trans6\n",
      "=================\n",
      "yes trans7\n"
     ]
    }
   ],
   "source": [
    "aug_features, aug_labels = [], []\n",
    "for action in actions:\n",
    "  for augment in augments:\n",
    "    if augment != \"original\":\n",
    "      video_dir_list = os.listdir(os.path.join(ASL_MP_PATH, action, augment))\n",
    "    \n",
    "      print('=================')\n",
    "      print(action, augment)  \n",
    "      for index, video in enumerate(video_dir_list):\n",
    "        window = []\n",
    "        # print('video:', video)\n",
    "        \n",
    "        frame_list = sorted_alphanumeric(os.listdir(os.path.join(ASL_MP_PATH, action, augment, video)))\n",
    "            \n",
    "        # Append frames\n",
    "        for frame_num in frame_list:\n",
    "          # print('frame:', frame_num)\n",
    "          res = np.load(os.path.join(ASL_MP_PATH, action, augment, video, frame_num))\n",
    "          window.append(res.tolist())\n",
    "        aug_features.append(window)\n",
    "        aug_labels.append(label_map[action])"
   ]
  },
  {
   "cell_type": "code",
   "execution_count": 29,
   "metadata": {},
   "outputs": [
    {
     "data": {
      "text/plain": [
       "(2871, 64, 1662)"
      ]
     },
     "execution_count": 29,
     "metadata": {},
     "output_type": "execute_result"
    }
   ],
   "source": [
    "X_aug = np.array(aug_features)\n",
    "X_aug.shape"
   ]
  },
  {
   "cell_type": "code",
   "execution_count": 30,
   "metadata": {},
   "outputs": [
    {
     "data": {
      "text/plain": [
       "(2871, 10)"
      ]
     },
     "execution_count": 30,
     "metadata": {},
     "output_type": "execute_result"
    }
   ],
   "source": [
    "y_aug = to_categorical(aug_labels).astype(int)\n",
    "y_aug.shape"
   ]
  },
  {
   "cell_type": "code",
   "execution_count": 31,
   "metadata": {},
   "outputs": [],
   "source": [
    "np.save('Xy/X-9aug-all', X_aug)\n",
    "np.save('Xy/y-9aug-all', y_aug)"
   ]
  },
  {
   "cell_type": "markdown",
   "metadata": {},
   "source": [
    "### Only take augmented train data"
   ]
  },
  {
   "cell_type": "code",
   "execution_count": 23,
   "metadata": {},
   "outputs": [
    {
     "data": {
      "text/plain": [
       "10"
      ]
     },
     "execution_count": 23,
     "metadata": {},
     "output_type": "execute_result"
    }
   ],
   "source": [
    "len(augments)"
   ]
  },
  {
   "cell_type": "code",
   "execution_count": 33,
   "metadata": {},
   "outputs": [
    {
     "name": "stdout",
     "output_type": "stream",
     "text": [
      "(2520, 64, 1662)\n",
      "0 (280, 64, 1662)\n",
      "1 (560, 64, 1662)\n",
      "2 (840, 64, 1662)\n",
      "3 (1120, 64, 1662)\n",
      "4 (1400, 64, 1662)\n",
      "5 (1680, 64, 1662)\n",
      "6 (1960, 64, 1662)\n",
      "7 (2240, 64, 1662)\n",
      "8 (2520, 64, 1662)\n"
     ]
    }
   ],
   "source": [
    "datalen = 319\n",
    "trainlen = 280\n",
    "\n",
    "X_aug_train = np.zeros(shape=(9*trainlen, 64, 1662))\n",
    "y_aug_train = np.zeros(shape=(9*trainlen, 10))\n",
    "print(X_aug_train.shape)\n",
    "\n",
    "for i in range(len(augments) - 1):\n",
    "  cur_x = X_aug[i*datalen:(i+1)*datalen]\n",
    "  cur_y = y_aug[i*datalen:(i+1)*datalen]\n",
    "  # print(i, cur_x.shape, cur_y.shape)\n",
    "  \n",
    "  # Only take X_aug_train\n",
    "  seed_everything(seed=SEED)\n",
    "  X_aug_train_tmp, X_aug_test_tmp, y_aug_train_tmp, y_aug_test_tmp = train_test_split(cur_x, cur_y, test_size=0.05, stratify=cur_y, random_state=SEED)\n",
    "  seed_everything(seed=SEED)\n",
    "  X_aug_train_tmp, X_aug_val_tmp, y_aug_train_tmp, y_aug_val_tmp = train_test_split(X_aug_train_tmp, y_aug_train_tmp, stratify=y_aug_train_tmp, test_size=0.075, random_state=SEED)\n",
    "  \n",
    "  if i == 0:\n",
    "    X_aug_train = X_aug_train[i*trainlen:(i+1)*trainlen]\n",
    "    y_aug_train = y_aug_train[i*trainlen:(i+1)*trainlen]\n",
    "  else:\n",
    "    X_aug_train = np.vstack((X_aug_train, X_aug_train_tmp))\n",
    "    y_aug_train = np.vstack((y_aug_train, y_aug_train_tmp))\n",
    "  \n",
    "  print(i, X_aug_train.shape)"
   ]
  },
  {
   "cell_type": "code",
   "execution_count": 34,
   "metadata": {},
   "outputs": [],
   "source": [
    "np.save('Xy/X-9aug', X_aug_train)\n",
    "np.save('Xy/y-9aug', y_aug_train)"
   ]
  },
  {
   "cell_type": "code",
   "execution_count": 35,
   "metadata": {},
   "outputs": [],
   "source": [
    "# X_aug_train = np.load('Xy/X-9aug.npy')\n",
    "# y_aug_train = np.load('Xy/y-9aug.npy')"
   ]
  },
  {
   "cell_type": "code",
   "execution_count": 36,
   "metadata": {},
   "outputs": [
    {
     "data": {
      "text/plain": [
       "(2800, 64, 1662)"
      ]
     },
     "execution_count": 36,
     "metadata": {},
     "output_type": "execute_result"
    }
   ],
   "source": [
    "X_train = np.append(X_train, X_aug_train, 0)\n",
    "X_train.shape"
   ]
  },
  {
   "cell_type": "code",
   "execution_count": 37,
   "metadata": {},
   "outputs": [
    {
     "data": {
      "text/plain": [
       "(2800, 10)"
      ]
     },
     "execution_count": 37,
     "metadata": {},
     "output_type": "execute_result"
    }
   ],
   "source": [
    "y_train = np.append(y_train, y_aug_train, 0)\n",
    "y_train.shape"
   ]
  },
  {
   "cell_type": "markdown",
   "metadata": {},
   "source": [
    "# 7. Build and Train LSTM Neural Network"
   ]
  },
  {
   "cell_type": "code",
   "execution_count": 31,
   "metadata": {},
   "outputs": [
    {
     "data": {
      "text/plain": [
       "10"
      ]
     },
     "execution_count": 31,
     "metadata": {},
     "output_type": "execute_result"
    }
   ],
   "source": [
    "len(actions)"
   ]
  },
  {
   "cell_type": "code",
   "execution_count": 32,
   "metadata": {},
   "outputs": [],
   "source": [
    "from tensorflow.keras.models import Sequential\n",
    "from tensorflow.keras.layers import LSTM, Dense, Bidirectional\n",
    "from tensorflow.keras.callbacks import TensorBoard, EarlyStopping, ReduceLROnPlateau\n",
    "from tensorflow import keras\n",
    "from wandb.keras import WandbCallback\n",
    "import wandb"
   ]
  },
  {
   "cell_type": "code",
   "execution_count": 33,
   "metadata": {},
   "outputs": [],
   "source": [
    "# del model"
   ]
  },
  {
   "cell_type": "code",
   "execution_count": 34,
   "metadata": {},
   "outputs": [
    {
     "name": "stderr",
     "output_type": "stream",
     "text": [
      "Failed to detect the name of this notebook, you can set it manually with the WANDB_NOTEBOOK_NAME environment variable to enable code saving.\n",
      "\u001b[34m\u001b[1mwandb\u001b[0m: Currently logged in as: \u001b[33mrichardsonqiu\u001b[0m (use `wandb login --relogin` to force relogin)\n"
     ]
    },
    {
     "data": {
      "text/html": [
       "\n",
       "                    Syncing run <strong><a href=\"https://wandb.ai/richardsonqiu/bidirectional-LSTM/runs/1ac5pmv2\" target=\"_blank\">sage-music-16</a></strong> to <a href=\"https://wandb.ai/richardsonqiu/bidirectional-LSTM\" target=\"_blank\">Weights & Biases</a> (<a href=\"https://docs.wandb.com/integrations/jupyter.html\" target=\"_blank\">docs</a>).<br/>\n",
       "\n",
       "                "
      ],
      "text/plain": [
       "<IPython.core.display.HTML object>"
      ]
     },
     "metadata": {},
     "output_type": "display_data"
    }
   ],
   "source": [
    "seed_everything(seed=SEED)\n",
    "\n",
    "wandb.init(\n",
    "  project=\"bidirectional-LSTM\",\n",
    "  entity=\"richardsonqiu\", \n",
    "  config={\n",
    "    \"lstm_1\": 64,\n",
    "    \"layer_1\": 64,\n",
    "    \"act_1\": \"relu\",\n",
    "    \n",
    "    \"lstm_2\": 64,\n",
    "    \"dropout_2\": 0.1,\n",
    "    \"layer_2\": 64,\n",
    "    \"act_2\": \"relu\",\n",
    "        \n",
    "    \"lstm_3\": 32,\n",
    "    \"dropout_3\": 0.1,\n",
    "    \n",
    "    \"last_layer\": len(actions),\n",
    "    \"last_act\": \"softmax\",\n",
    "    \n",
    "    \"optimizer\": \"adam\",\n",
    "    \"init_lr\": 0.01,\n",
    "    \"loss\": \"categorical_crossentropy\",\n",
    "    \"metric\": \"accuracy\",\n",
    "    \"epoch\": 1000,\n",
    "    \"batch_size\": 32  \n",
    "    })\n",
    "config = wandb.config\n",
    "\n",
    "model = Sequential()\n",
    "model.add(Bidirectional(LSTM(config.lstm_1, return_sequences=True), input_shape=(max_frames, 1662)))\n",
    "model.add(Dense(config.layer_1, activation=config.act_1))\n",
    "\n",
    "model.add(Bidirectional(LSTM(config.lstm_2, return_sequences=True, dropout=config.dropout_2)))\n",
    "model.add(Dense(config.layer_2, activation=config.act_2))\n",
    "\n",
    "model.add(Bidirectional(LSTM(config.lstm_3, return_sequences=False, dropout=config.dropout_3)))\n",
    "model.add(Dense(config.last_layer, activation=config.last_act))\n",
    "\n",
    "opt = keras.optimizers.Adam(learning_rate=config.init_lr)\n",
    "model.compile(optimizer=opt, loss=config.loss, metrics=config.metric)"
   ]
  },
  {
   "cell_type": "code",
   "execution_count": 35,
   "metadata": {},
   "outputs": [
    {
     "name": "stdout",
     "output_type": "stream",
     "text": [
      "Model: \"sequential\"\n",
      "_________________________________________________________________\n",
      " Layer (type)                Output Shape              Param #   \n",
      "=================================================================\n",
      " bidirectional (Bidirectiona  (None, 64, 128)          884224    \n",
      " l)                                                              \n",
      "                                                                 \n",
      " dense (Dense)               (None, 64, 64)            8256      \n",
      "                                                                 \n",
      " bidirectional_1 (Bidirectio  (None, 64, 128)          66048     \n",
      " nal)                                                            \n",
      "                                                                 \n",
      " dense_1 (Dense)             (None, 64, 64)            8256      \n",
      "                                                                 \n",
      " bidirectional_2 (Bidirectio  (None, 64)               24832     \n",
      " nal)                                                            \n",
      "                                                                 \n",
      " dense_2 (Dense)             (None, 10)                650       \n",
      "                                                                 \n",
      "=================================================================\n",
      "Total params: 992,266\n",
      "Trainable params: 992,266\n",
      "Non-trainable params: 0\n",
      "_________________________________________________________________\n"
     ]
    }
   ],
   "source": [
    "model.summary()"
   ]
  },
  {
   "cell_type": "code",
   "execution_count": 36,
   "metadata": {},
   "outputs": [],
   "source": [
    "TRIAL = 24\n",
    "log_dir = os.path.join('Logs/{}'.format(TRIAL))\n",
    "tb_callback = TensorBoard(log_dir=log_dir)\n",
    "wandb_callback = WandbCallback(log_evaluation=True)\n",
    "\n",
    "es_callback = EarlyStopping(monitor='val_loss', patience=20)\n",
    "lr_callback = ReduceLROnPlateau(monitor='val_loss', patience=100, factor=0.5, min_lr=0.0001)"
   ]
  },
  {
   "cell_type": "code",
   "execution_count": 37,
   "metadata": {},
   "outputs": [
    {
     "name": "stdout",
     "output_type": "stream",
     "text": [
      "Epoch 1/1000\n",
      "9/9 [==============================] - 15s 472ms/step - loss: 2.2880 - accuracy: 0.1464 - val_loss: 2.2890 - val_accuracy: 0.1304\n",
      "Epoch 2/1000\n",
      "9/9 [==============================] - 1s 129ms/step - loss: 2.2359 - accuracy: 0.1429 - val_loss: 2.2362 - val_accuracy: 0.1304\n",
      "Epoch 3/1000\n",
      "9/9 [==============================] - 1s 126ms/step - loss: 2.2372 - accuracy: 0.1143 - val_loss: 2.2233 - val_accuracy: 0.1304\n",
      "Epoch 4/1000\n",
      "9/9 [==============================] - 1s 109ms/step - loss: 2.2045 - accuracy: 0.1643 - val_loss: 2.2276 - val_accuracy: 0.1304\n",
      "Epoch 5/1000\n",
      "9/9 [==============================] - 1s 106ms/step - loss: 2.2132 - accuracy: 0.1321 - val_loss: 2.2258 - val_accuracy: 0.1304\n",
      "Epoch 6/1000\n",
      "9/9 [==============================] - 1s 123ms/step - loss: 2.2049 - accuracy: 0.1143 - val_loss: 2.2190 - val_accuracy: 0.1304\n",
      "Epoch 7/1000\n",
      "9/9 [==============================] - 1s 102ms/step - loss: 2.2069 - accuracy: 0.1536 - val_loss: 2.2199 - val_accuracy: 0.1304\n",
      "Epoch 8/1000\n",
      "9/9 [==============================] - 1s 104ms/step - loss: 2.2106 - accuracy: 0.0893 - val_loss: 2.2211 - val_accuracy: 0.1304\n",
      "Epoch 9/1000\n",
      "9/9 [==============================] - 1s 128ms/step - loss: 2.2070 - accuracy: 0.1464 - val_loss: 2.2232 - val_accuracy: 0.1304\n",
      "Epoch 10/1000\n",
      "9/9 [==============================] - 1s 106ms/step - loss: 2.2023 - accuracy: 0.1214 - val_loss: 2.2223 - val_accuracy: 0.1304\n",
      "Epoch 11/1000\n",
      "9/9 [==============================] - 1s 105ms/step - loss: 2.2025 - accuracy: 0.1321 - val_loss: 2.2222 - val_accuracy: 0.1304\n",
      "Epoch 12/1000\n",
      "9/9 [==============================] - 1s 119ms/step - loss: 2.2055 - accuracy: 0.1464 - val_loss: 2.2209 - val_accuracy: 0.1304\n",
      "Epoch 13/1000\n",
      "9/9 [==============================] - 1s 118ms/step - loss: 2.2127 - accuracy: 0.1357 - val_loss: 2.2219 - val_accuracy: 0.1304\n",
      "Epoch 14/1000\n",
      "9/9 [==============================] - 1s 115ms/step - loss: 2.2046 - accuracy: 0.1429 - val_loss: 2.2218 - val_accuracy: 0.1304\n",
      "Epoch 15/1000\n",
      "9/9 [==============================] - 1s 141ms/step - loss: 2.2101 - accuracy: 0.1464 - val_loss: 2.2249 - val_accuracy: 0.1304\n",
      "Epoch 16/1000\n",
      "9/9 [==============================] - 1s 130ms/step - loss: 2.2067 - accuracy: 0.1321 - val_loss: 2.2203 - val_accuracy: 0.1304\n",
      "Epoch 17/1000\n",
      "9/9 [==============================] - 1s 146ms/step - loss: 2.2016 - accuracy: 0.1286 - val_loss: 2.2202 - val_accuracy: 0.1304\n",
      "Epoch 18/1000\n",
      "9/9 [==============================] - 1s 125ms/step - loss: 2.2004 - accuracy: 0.1357 - val_loss: 2.2222 - val_accuracy: 0.1304\n",
      "Epoch 19/1000\n",
      "9/9 [==============================] - 1s 123ms/step - loss: 2.2010 - accuracy: 0.1429 - val_loss: 2.2223 - val_accuracy: 0.1304\n",
      "Epoch 20/1000\n",
      "9/9 [==============================] - 1s 131ms/step - loss: 2.2046 - accuracy: 0.1321 - val_loss: 2.2190 - val_accuracy: 0.1304\n",
      "Epoch 21/1000\n",
      "9/9 [==============================] - 1s 102ms/step - loss: 2.2011 - accuracy: 0.1321 - val_loss: 2.2192 - val_accuracy: 0.1304\n",
      "Epoch 22/1000\n",
      "9/9 [==============================] - 1s 101ms/step - loss: 2.2043 - accuracy: 0.1643 - val_loss: 2.2239 - val_accuracy: 0.1304\n",
      "Epoch 23/1000\n",
      "9/9 [==============================] - 1s 108ms/step - loss: 2.2033 - accuracy: 0.1357 - val_loss: 2.2212 - val_accuracy: 0.1304\n",
      "Epoch 24/1000\n",
      "9/9 [==============================] - 1s 99ms/step - loss: 2.2047 - accuracy: 0.1286 - val_loss: 2.2211 - val_accuracy: 0.1304\n",
      "Epoch 25/1000\n",
      "9/9 [==============================] - 1s 102ms/step - loss: 2.2055 - accuracy: 0.1214 - val_loss: 2.2216 - val_accuracy: 0.1304\n",
      "Epoch 26/1000\n",
      "9/9 [==============================] - 1s 95ms/step - loss: 2.2035 - accuracy: 0.1071 - val_loss: 2.2210 - val_accuracy: 0.1304\n",
      "Epoch 27/1000\n",
      "9/9 [==============================] - 1s 95ms/step - loss: 2.2036 - accuracy: 0.1321 - val_loss: 2.2208 - val_accuracy: 0.1304\n",
      "Epoch 28/1000\n",
      "9/9 [==============================] - 1s 102ms/step - loss: 2.2030 - accuracy: 0.1286 - val_loss: 2.2240 - val_accuracy: 0.1304\n",
      "Epoch 29/1000\n",
      "9/9 [==============================] - 1s 102ms/step - loss: 2.2045 - accuracy: 0.1107 - val_loss: 2.2221 - val_accuracy: 0.1304\n",
      "Epoch 30/1000\n",
      "9/9 [==============================] - 1s 98ms/step - loss: 2.2039 - accuracy: 0.1214 - val_loss: 2.2202 - val_accuracy: 0.1304\n",
      "Epoch 31/1000\n",
      "9/9 [==============================] - 1s 95ms/step - loss: 2.2030 - accuracy: 0.1464 - val_loss: 2.2213 - val_accuracy: 0.1304\n",
      "Epoch 32/1000\n",
      "9/9 [==============================] - 1s 95ms/step - loss: 2.2029 - accuracy: 0.1286 - val_loss: 2.2228 - val_accuracy: 0.1304\n",
      "Epoch 33/1000\n",
      "9/9 [==============================] - 1s 92ms/step - loss: 2.2013 - accuracy: 0.1464 - val_loss: 2.2226 - val_accuracy: 0.1304\n",
      "Epoch 34/1000\n",
      "9/9 [==============================] - 1s 95ms/step - loss: 2.2040 - accuracy: 0.1464 - val_loss: 2.2213 - val_accuracy: 0.1304\n",
      "Epoch 35/1000\n",
      "9/9 [==============================] - 1s 94ms/step - loss: 2.2028 - accuracy: 0.1000 - val_loss: 2.2217 - val_accuracy: 0.1304\n",
      "Epoch 36/1000\n",
      "9/9 [==============================] - 1s 109ms/step - loss: 2.2010 - accuracy: 0.1321 - val_loss: 2.2225 - val_accuracy: 0.1304\n",
      "Epoch 37/1000\n",
      "9/9 [==============================] - 1s 96ms/step - loss: 2.2005 - accuracy: 0.1393 - val_loss: 2.2214 - val_accuracy: 0.1304\n",
      "Epoch 38/1000\n",
      "9/9 [==============================] - 1s 96ms/step - loss: 2.2021 - accuracy: 0.1500 - val_loss: 2.2225 - val_accuracy: 0.1304\n",
      "Epoch 39/1000\n",
      "9/9 [==============================] - 1s 94ms/step - loss: 2.2034 - accuracy: 0.1393 - val_loss: 2.2199 - val_accuracy: 0.1304\n",
      "Epoch 40/1000\n",
      "9/9 [==============================] - 1s 94ms/step - loss: 2.2044 - accuracy: 0.1500 - val_loss: 2.2207 - val_accuracy: 0.1304\n",
      "Epoch 41/1000\n",
      "9/9 [==============================] - 1s 93ms/step - loss: 2.2015 - accuracy: 0.1500 - val_loss: 2.2227 - val_accuracy: 0.1304\n",
      "Epoch 42/1000\n",
      "9/9 [==============================] - 1s 99ms/step - loss: 2.2010 - accuracy: 0.1464 - val_loss: 2.2204 - val_accuracy: 0.1304\n",
      "Epoch 43/1000\n",
      "9/9 [==============================] - 1s 94ms/step - loss: 2.2046 - accuracy: 0.1321 - val_loss: 2.2220 - val_accuracy: 0.1304\n",
      "Epoch 44/1000\n",
      "9/9 [==============================] - 1s 94ms/step - loss: 2.2051 - accuracy: 0.1250 - val_loss: 2.2217 - val_accuracy: 0.1304\n",
      "Epoch 45/1000\n",
      "9/9 [==============================] - 1s 101ms/step - loss: 2.2037 - accuracy: 0.1464 - val_loss: 2.2224 - val_accuracy: 0.1304\n",
      "Epoch 46/1000\n",
      "9/9 [==============================] - 1s 94ms/step - loss: 2.2019 - accuracy: 0.1286 - val_loss: 2.2234 - val_accuracy: 0.1304\n",
      "Epoch 47/1000\n",
      "9/9 [==============================] - 1s 95ms/step - loss: 2.2016 - accuracy: 0.1321 - val_loss: 2.2213 - val_accuracy: 0.1304\n",
      "Epoch 48/1000\n",
      "9/9 [==============================] - 1s 102ms/step - loss: 2.2028 - accuracy: 0.1000 - val_loss: 2.2210 - val_accuracy: 0.1304\n",
      "Epoch 49/1000\n",
      "9/9 [==============================] - 1s 96ms/step - loss: 2.2045 - accuracy: 0.1500 - val_loss: 2.2226 - val_accuracy: 0.1304\n",
      "Epoch 50/1000\n",
      "9/9 [==============================] - 1s 96ms/step - loss: 2.2032 - accuracy: 0.1321 - val_loss: 2.2246 - val_accuracy: 0.1304\n",
      "Epoch 51/1000\n",
      "9/9 [==============================] - 1s 97ms/step - loss: 2.2021 - accuracy: 0.1464 - val_loss: 2.2223 - val_accuracy: 0.1304\n",
      "Epoch 52/1000\n",
      "9/9 [==============================] - 1s 108ms/step - loss: 2.2018 - accuracy: 0.1071 - val_loss: 2.2187 - val_accuracy: 0.1304\n",
      "Epoch 53/1000\n",
      "9/9 [==============================] - 1s 95ms/step - loss: 2.2017 - accuracy: 0.1464 - val_loss: 2.2197 - val_accuracy: 0.1304\n",
      "Epoch 54/1000\n",
      "9/9 [==============================] - 1s 101ms/step - loss: 2.2026 - accuracy: 0.1250 - val_loss: 2.2230 - val_accuracy: 0.1304\n",
      "Epoch 55/1000\n",
      "9/9 [==============================] - 1s 101ms/step - loss: 2.2025 - accuracy: 0.1464 - val_loss: 2.2218 - val_accuracy: 0.1304\n",
      "Epoch 56/1000\n",
      "9/9 [==============================] - 1s 94ms/step - loss: 2.2015 - accuracy: 0.1500 - val_loss: 2.2211 - val_accuracy: 0.1304\n",
      "Epoch 57/1000\n",
      "9/9 [==============================] - 1s 96ms/step - loss: 2.2029 - accuracy: 0.1250 - val_loss: 2.2214 - val_accuracy: 0.1304\n",
      "Epoch 58/1000\n",
      "9/9 [==============================] - 1s 94ms/step - loss: 2.2007 - accuracy: 0.1500 - val_loss: 2.2213 - val_accuracy: 0.1304\n",
      "Epoch 59/1000\n",
      "9/9 [==============================] - 1s 98ms/step - loss: 2.2016 - accuracy: 0.1179 - val_loss: 2.2210 - val_accuracy: 0.1304\n",
      "Epoch 60/1000\n",
      "9/9 [==============================] - 1s 101ms/step - loss: 2.2026 - accuracy: 0.0964 - val_loss: 2.2223 - val_accuracy: 0.1304\n",
      "Epoch 61/1000\n",
      "9/9 [==============================] - 1s 95ms/step - loss: 2.2009 - accuracy: 0.1286 - val_loss: 2.2223 - val_accuracy: 0.1304\n",
      "Epoch 62/1000\n",
      "9/9 [==============================] - 1s 94ms/step - loss: 2.2029 - accuracy: 0.1250 - val_loss: 2.2212 - val_accuracy: 0.1304\n",
      "Epoch 63/1000\n",
      "9/9 [==============================] - 1s 93ms/step - loss: 2.2015 - accuracy: 0.1464 - val_loss: 2.2222 - val_accuracy: 0.1304\n",
      "Epoch 64/1000\n",
      "9/9 [==============================] - 1s 95ms/step - loss: 2.2018 - accuracy: 0.1143 - val_loss: 2.2199 - val_accuracy: 0.1304\n",
      "Epoch 65/1000\n",
      "9/9 [==============================] - 1s 106ms/step - loss: 2.2042 - accuracy: 0.1429 - val_loss: 2.2220 - val_accuracy: 0.1304\n",
      "Epoch 66/1000\n",
      "9/9 [==============================] - 1s 98ms/step - loss: 2.2011 - accuracy: 0.1464 - val_loss: 2.2230 - val_accuracy: 0.1304\n",
      "Epoch 67/1000\n",
      "9/9 [==============================] - 1s 97ms/step - loss: 2.2012 - accuracy: 0.1500 - val_loss: 2.2217 - val_accuracy: 0.1304\n",
      "Epoch 68/1000\n",
      "9/9 [==============================] - 1s 97ms/step - loss: 2.2023 - accuracy: 0.1321 - val_loss: 2.2230 - val_accuracy: 0.1304\n",
      "Epoch 69/1000\n",
      "9/9 [==============================] - 1s 94ms/step - loss: 2.2035 - accuracy: 0.1250 - val_loss: 2.2216 - val_accuracy: 0.1304\n",
      "Epoch 70/1000\n",
      "9/9 [==============================] - 1s 93ms/step - loss: 2.2025 - accuracy: 0.1321 - val_loss: 2.2213 - val_accuracy: 0.1304\n",
      "Epoch 71/1000\n",
      "9/9 [==============================] - 1s 108ms/step - loss: 2.2008 - accuracy: 0.1464 - val_loss: 2.2225 - val_accuracy: 0.1304\n",
      "Epoch 72/1000\n",
      "9/9 [==============================] - 1s 109ms/step - loss: 2.2038 - accuracy: 0.1393 - val_loss: 2.2224 - val_accuracy: 0.1304\n",
      "Epoch 73/1000\n",
      "9/9 [==============================] - 1s 98ms/step - loss: 2.2018 - accuracy: 0.1500 - val_loss: 2.2221 - val_accuracy: 0.1304\n",
      "Epoch 74/1000\n",
      "9/9 [==============================] - 1s 99ms/step - loss: 2.2019 - accuracy: 0.1464 - val_loss: 2.2221 - val_accuracy: 0.1304\n",
      "Epoch 75/1000\n",
      "9/9 [==============================] - 1s 124ms/step - loss: 2.2016 - accuracy: 0.1393 - val_loss: 2.2230 - val_accuracy: 0.1304\n",
      "Epoch 76/1000\n",
      "9/9 [==============================] - 1s 121ms/step - loss: 2.2028 - accuracy: 0.1179 - val_loss: 2.2217 - val_accuracy: 0.1304\n",
      "Epoch 77/1000\n",
      "9/9 [==============================] - 1s 122ms/step - loss: 2.2033 - accuracy: 0.1464 - val_loss: 2.2225 - val_accuracy: 0.1304\n",
      "Epoch 78/1000\n",
      "9/9 [==============================] - 1s 130ms/step - loss: 2.2027 - accuracy: 0.1321 - val_loss: 2.2220 - val_accuracy: 0.1304\n",
      "Epoch 79/1000\n",
      "9/9 [==============================] - 1s 126ms/step - loss: 2.2013 - accuracy: 0.1250 - val_loss: 2.2227 - val_accuracy: 0.1304\n",
      "Epoch 80/1000\n",
      "9/9 [==============================] - 1s 118ms/step - loss: 2.2015 - accuracy: 0.1464 - val_loss: 2.2219 - val_accuracy: 0.1304\n",
      "Epoch 81/1000\n",
      "9/9 [==============================] - 1s 137ms/step - loss: 2.2013 - accuracy: 0.1464 - val_loss: 2.2215 - val_accuracy: 0.1304\n",
      "Epoch 82/1000\n",
      "9/9 [==============================] - 1s 107ms/step - loss: 2.2010 - accuracy: 0.1286 - val_loss: 2.2210 - val_accuracy: 0.1304\n",
      "Epoch 83/1000\n",
      "9/9 [==============================] - 1s 107ms/step - loss: 2.2019 - accuracy: 0.1464 - val_loss: 2.2201 - val_accuracy: 0.1304\n",
      "Epoch 84/1000\n",
      "9/9 [==============================] - 1s 122ms/step - loss: 2.2014 - accuracy: 0.1464 - val_loss: 2.2215 - val_accuracy: 0.1304\n",
      "Epoch 85/1000\n",
      "9/9 [==============================] - 1s 127ms/step - loss: 2.1998 - accuracy: 0.1607 - val_loss: 2.2215 - val_accuracy: 0.1304\n",
      "Epoch 86/1000\n",
      "9/9 [==============================] - 1s 127ms/step - loss: 2.2011 - accuracy: 0.1464 - val_loss: 2.2210 - val_accuracy: 0.1304\n",
      "Epoch 87/1000\n",
      "9/9 [==============================] - 1s 121ms/step - loss: 2.2019 - accuracy: 0.1464 - val_loss: 2.2237 - val_accuracy: 0.1304\n",
      "Epoch 88/1000\n",
      "9/9 [==============================] - 1s 115ms/step - loss: 2.2019 - accuracy: 0.1464 - val_loss: 2.2221 - val_accuracy: 0.1304\n",
      "Epoch 89/1000\n",
      "9/9 [==============================] - 1s 118ms/step - loss: 2.2000 - accuracy: 0.1393 - val_loss: 2.2206 - val_accuracy: 0.1304\n",
      "Epoch 90/1000\n",
      "9/9 [==============================] - 1s 126ms/step - loss: 2.2018 - accuracy: 0.1464 - val_loss: 2.2210 - val_accuracy: 0.1304\n",
      "Epoch 91/1000\n",
      "9/9 [==============================] - 1s 107ms/step - loss: 2.2023 - accuracy: 0.1464 - val_loss: 2.2226 - val_accuracy: 0.1304\n",
      "Epoch 92/1000\n",
      "9/9 [==============================] - 1s 112ms/step - loss: 2.2006 - accuracy: 0.1393 - val_loss: 2.2216 - val_accuracy: 0.1304\n",
      "Epoch 93/1000\n",
      "9/9 [==============================] - 1s 110ms/step - loss: 2.2023 - accuracy: 0.1286 - val_loss: 2.2216 - val_accuracy: 0.1304\n",
      "Epoch 94/1000\n",
      "9/9 [==============================] - 1s 123ms/step - loss: 2.2010 - accuracy: 0.1464 - val_loss: 2.2225 - val_accuracy: 0.1304\n",
      "Epoch 95/1000\n",
      "9/9 [==============================] - 1s 123ms/step - loss: 2.2032 - accuracy: 0.1179 - val_loss: 2.2204 - val_accuracy: 0.1304\n",
      "Epoch 96/1000\n",
      "9/9 [==============================] - 1s 109ms/step - loss: 2.2006 - accuracy: 0.1464 - val_loss: 2.2195 - val_accuracy: 0.1304\n",
      "Epoch 97/1000\n",
      "9/9 [==============================] - 1s 98ms/step - loss: 2.2019 - accuracy: 0.1464 - val_loss: 2.2214 - val_accuracy: 0.1304\n",
      "Epoch 98/1000\n",
      "9/9 [==============================] - 1s 103ms/step - loss: 2.2020 - accuracy: 0.1179 - val_loss: 2.2231 - val_accuracy: 0.1304\n",
      "Epoch 99/1000\n",
      "9/9 [==============================] - 1s 110ms/step - loss: 2.2012 - accuracy: 0.1464 - val_loss: 2.2221 - val_accuracy: 0.1304\n",
      "Epoch 100/1000\n",
      "9/9 [==============================] - 1s 100ms/step - loss: 2.2022 - accuracy: 0.1214 - val_loss: 2.2213 - val_accuracy: 0.1304\n",
      "Epoch 101/1000\n",
      "9/9 [==============================] - 1s 97ms/step - loss: 2.2039 - accuracy: 0.0893 - val_loss: 2.2211 - val_accuracy: 0.1304\n",
      "Epoch 102/1000\n",
      "9/9 [==============================] - 1s 96ms/step - loss: 2.2032 - accuracy: 0.1357 - val_loss: 2.2210 - val_accuracy: 0.1304\n",
      "Epoch 103/1000\n",
      "9/9 [==============================] - 1s 95ms/step - loss: 2.2036 - accuracy: 0.1250 - val_loss: 2.2231 - val_accuracy: 0.1304\n",
      "Epoch 104/1000\n",
      "9/9 [==============================] - 1s 97ms/step - loss: 2.2016 - accuracy: 0.1464 - val_loss: 2.2221 - val_accuracy: 0.1304\n",
      "Epoch 105/1000\n",
      "9/9 [==============================] - 1s 96ms/step - loss: 2.2003 - accuracy: 0.1393 - val_loss: 2.2217 - val_accuracy: 0.1304\n",
      "Epoch 106/1000\n",
      "9/9 [==============================] - 1s 100ms/step - loss: 2.2010 - accuracy: 0.1429 - val_loss: 2.2217 - val_accuracy: 0.1304\n",
      "Epoch 107/1000\n",
      "9/9 [==============================] - 1s 95ms/step - loss: 2.2011 - accuracy: 0.1464 - val_loss: 2.2218 - val_accuracy: 0.1304\n",
      "Epoch 108/1000\n",
      "9/9 [==============================] - 1s 95ms/step - loss: 2.2014 - accuracy: 0.1250 - val_loss: 2.2214 - val_accuracy: 0.1304\n",
      "Epoch 109/1000\n",
      "9/9 [==============================] - 1s 95ms/step - loss: 2.2011 - accuracy: 0.1536 - val_loss: 2.2231 - val_accuracy: 0.1304\n",
      "Epoch 110/1000\n",
      "9/9 [==============================] - 1s 95ms/step - loss: 2.2028 - accuracy: 0.1464 - val_loss: 2.2231 - val_accuracy: 0.1304\n",
      "Epoch 111/1000\n",
      "9/9 [==============================] - 1s 104ms/step - loss: 2.2002 - accuracy: 0.1464 - val_loss: 2.2210 - val_accuracy: 0.1304\n",
      "Epoch 112/1000\n",
      "9/9 [==============================] - 1s 117ms/step - loss: 2.2026 - accuracy: 0.1143 - val_loss: 2.2185 - val_accuracy: 0.1304\n",
      "Epoch 113/1000\n",
      "9/9 [==============================] - 1s 96ms/step - loss: 2.2004 - accuracy: 0.1250 - val_loss: 2.2218 - val_accuracy: 0.1304\n",
      "Epoch 114/1000\n",
      "9/9 [==============================] - 1s 95ms/step - loss: 2.2019 - accuracy: 0.1357 - val_loss: 2.2213 - val_accuracy: 0.1304\n",
      "Epoch 115/1000\n",
      "9/9 [==============================] - 1s 96ms/step - loss: 2.2043 - accuracy: 0.1179 - val_loss: 2.2224 - val_accuracy: 0.1304\n",
      "Epoch 116/1000\n",
      "9/9 [==============================] - 1s 95ms/step - loss: 2.2002 - accuracy: 0.1464 - val_loss: 2.2235 - val_accuracy: 0.1304\n",
      "Epoch 117/1000\n",
      "9/9 [==============================] - 1s 98ms/step - loss: 2.2038 - accuracy: 0.1071 - val_loss: 2.2208 - val_accuracy: 0.1304\n",
      "Epoch 118/1000\n",
      "9/9 [==============================] - 1s 94ms/step - loss: 2.2035 - accuracy: 0.1607 - val_loss: 2.2225 - val_accuracy: 0.1304\n",
      "Epoch 119/1000\n",
      "9/9 [==============================] - 1s 96ms/step - loss: 2.2020 - accuracy: 0.1464 - val_loss: 2.2227 - val_accuracy: 0.1304\n",
      "Epoch 120/1000\n",
      "9/9 [==============================] - 1s 102ms/step - loss: 2.2009 - accuracy: 0.1464 - val_loss: 2.2236 - val_accuracy: 0.1304\n",
      "Epoch 121/1000\n",
      "9/9 [==============================] - 1s 95ms/step - loss: 2.2017 - accuracy: 0.1321 - val_loss: 2.2221 - val_accuracy: 0.1304\n",
      "Epoch 122/1000\n",
      "9/9 [==============================] - 1s 96ms/step - loss: 2.2021 - accuracy: 0.1464 - val_loss: 2.2219 - val_accuracy: 0.1304\n",
      "Epoch 123/1000\n",
      "9/9 [==============================] - 1s 100ms/step - loss: 2.2005 - accuracy: 0.1429 - val_loss: 2.2217 - val_accuracy: 0.1304\n",
      "Epoch 124/1000\n",
      "9/9 [==============================] - 1s 96ms/step - loss: 2.2009 - accuracy: 0.1179 - val_loss: 2.2204 - val_accuracy: 0.1304\n",
      "Epoch 125/1000\n",
      "9/9 [==============================] - 1s 98ms/step - loss: 2.2025 - accuracy: 0.1214 - val_loss: 2.2223 - val_accuracy: 0.1304\n",
      "Epoch 126/1000\n",
      "9/9 [==============================] - 1s 112ms/step - loss: 2.2008 - accuracy: 0.1464 - val_loss: 2.2230 - val_accuracy: 0.1304\n",
      "Epoch 127/1000\n",
      "9/9 [==============================] - 1s 103ms/step - loss: 2.2011 - accuracy: 0.1464 - val_loss: 2.2236 - val_accuracy: 0.1304\n",
      "Epoch 128/1000\n",
      "9/9 [==============================] - 1s 105ms/step - loss: 2.2009 - accuracy: 0.1536 - val_loss: 2.2217 - val_accuracy: 0.1304\n",
      "Epoch 129/1000\n",
      "9/9 [==============================] - 1s 97ms/step - loss: 2.2019 - accuracy: 0.1107 - val_loss: 2.2222 - val_accuracy: 0.1304\n",
      "Epoch 130/1000\n",
      "9/9 [==============================] - 1s 96ms/step - loss: 2.2008 - accuracy: 0.1429 - val_loss: 2.2205 - val_accuracy: 0.1304\n",
      "Epoch 131/1000\n",
      "9/9 [==============================] - 1s 95ms/step - loss: 2.2017 - accuracy: 0.1536 - val_loss: 2.2221 - val_accuracy: 0.1304\n",
      "Epoch 132/1000\n",
      "9/9 [==============================] - 1s 96ms/step - loss: 2.2033 - accuracy: 0.1464 - val_loss: 2.2220 - val_accuracy: 0.1304\n",
      "Epoch 133/1000\n",
      "9/9 [==============================] - 1s 94ms/step - loss: 2.2024 - accuracy: 0.1464 - val_loss: 2.2211 - val_accuracy: 0.1304\n",
      "Epoch 134/1000\n",
      "9/9 [==============================] - 1s 101ms/step - loss: 2.2022 - accuracy: 0.1321 - val_loss: 2.2203 - val_accuracy: 0.1304\n",
      "Epoch 135/1000\n",
      "9/9 [==============================] - 1s 104ms/step - loss: 2.2026 - accuracy: 0.1143 - val_loss: 2.2225 - val_accuracy: 0.1304\n",
      "Epoch 136/1000\n",
      "9/9 [==============================] - 1s 104ms/step - loss: 2.2020 - accuracy: 0.1321 - val_loss: 2.2221 - val_accuracy: 0.1304\n",
      "Epoch 137/1000\n",
      "9/9 [==============================] - 1s 96ms/step - loss: 2.2005 - accuracy: 0.1536 - val_loss: 2.2228 - val_accuracy: 0.1304\n",
      "Epoch 138/1000\n",
      "9/9 [==============================] - 1s 96ms/step - loss: 2.2002 - accuracy: 0.1321 - val_loss: 2.2224 - val_accuracy: 0.1304\n",
      "Epoch 139/1000\n",
      "9/9 [==============================] - 1s 95ms/step - loss: 2.2011 - accuracy: 0.1500 - val_loss: 2.2221 - val_accuracy: 0.1304\n",
      "Epoch 140/1000\n",
      "9/9 [==============================] - 1s 99ms/step - loss: 2.2018 - accuracy: 0.1214 - val_loss: 2.2215 - val_accuracy: 0.1304\n",
      "Epoch 141/1000\n",
      "9/9 [==============================] - 1s 95ms/step - loss: 2.2017 - accuracy: 0.0929 - val_loss: 2.2216 - val_accuracy: 0.1304\n",
      "Epoch 142/1000\n",
      "9/9 [==============================] - 1s 94ms/step - loss: 2.2007 - accuracy: 0.1321 - val_loss: 2.2222 - val_accuracy: 0.1304\n",
      "Epoch 143/1000\n",
      "9/9 [==============================] - 1s 95ms/step - loss: 2.2007 - accuracy: 0.1464 - val_loss: 2.2205 - val_accuracy: 0.1304\n",
      "Epoch 144/1000\n",
      "9/9 [==============================] - 1s 95ms/step - loss: 2.2034 - accuracy: 0.1143 - val_loss: 2.2207 - val_accuracy: 0.1304\n",
      "Epoch 145/1000\n",
      "9/9 [==============================] - 1s 96ms/step - loss: 2.1995 - accuracy: 0.1464 - val_loss: 2.2219 - val_accuracy: 0.1304\n",
      "Epoch 146/1000\n",
      "9/9 [==============================] - 1s 97ms/step - loss: 2.2007 - accuracy: 0.1464 - val_loss: 2.2240 - val_accuracy: 0.1304\n",
      "Epoch 147/1000\n",
      "9/9 [==============================] - 1s 97ms/step - loss: 2.2013 - accuracy: 0.1464 - val_loss: 2.2234 - val_accuracy: 0.1304\n",
      "Epoch 148/1000\n",
      "9/9 [==============================] - 1s 100ms/step - loss: 2.2008 - accuracy: 0.1536 - val_loss: 2.2218 - val_accuracy: 0.1304\n",
      "Epoch 149/1000\n",
      "9/9 [==============================] - 1s 98ms/step - loss: 2.2006 - accuracy: 0.1464 - val_loss: 2.2218 - val_accuracy: 0.1304\n",
      "Epoch 150/1000\n",
      "9/9 [==============================] - 1s 95ms/step - loss: 2.2002 - accuracy: 0.1429 - val_loss: 2.2213 - val_accuracy: 0.1304\n",
      "Epoch 151/1000\n",
      "9/9 [==============================] - 1s 102ms/step - loss: 2.2011 - accuracy: 0.1464 - val_loss: 2.2222 - val_accuracy: 0.1304\n",
      "Epoch 152/1000\n",
      "9/9 [==============================] - 1s 94ms/step - loss: 2.2017 - accuracy: 0.1179 - val_loss: 2.2228 - val_accuracy: 0.1304\n",
      "Epoch 153/1000\n",
      "9/9 [==============================] - 1s 95ms/step - loss: 2.2035 - accuracy: 0.1393 - val_loss: 2.2208 - val_accuracy: 0.1304\n",
      "Epoch 154/1000\n",
      "9/9 [==============================] - 1s 94ms/step - loss: 2.2014 - accuracy: 0.1357 - val_loss: 2.2227 - val_accuracy: 0.1304\n",
      "Epoch 155/1000\n",
      "9/9 [==============================] - 1s 101ms/step - loss: 2.2019 - accuracy: 0.1464 - val_loss: 2.2231 - val_accuracy: 0.1304\n",
      "Epoch 156/1000\n",
      "9/9 [==============================] - 1s 94ms/step - loss: 2.2017 - accuracy: 0.1464 - val_loss: 2.2208 - val_accuracy: 0.1304\n",
      "Epoch 157/1000\n",
      "9/9 [==============================] - 1s 99ms/step - loss: 2.2036 - accuracy: 0.1179 - val_loss: 2.2207 - val_accuracy: 0.1304\n",
      "Epoch 158/1000\n",
      "9/9 [==============================] - 1s 95ms/step - loss: 2.2024 - accuracy: 0.1393 - val_loss: 2.2234 - val_accuracy: 0.1304\n",
      "Epoch 159/1000\n",
      "9/9 [==============================] - 1s 95ms/step - loss: 2.2017 - accuracy: 0.1464 - val_loss: 2.2240 - val_accuracy: 0.1304\n",
      "Epoch 160/1000\n",
      "9/9 [==============================] - 1s 97ms/step - loss: 2.2019 - accuracy: 0.1464 - val_loss: 2.2246 - val_accuracy: 0.1304\n",
      "Epoch 161/1000\n",
      "9/9 [==============================] - 1s 95ms/step - loss: 2.2017 - accuracy: 0.1464 - val_loss: 2.2207 - val_accuracy: 0.1304\n",
      "Epoch 162/1000\n",
      "9/9 [==============================] - 1s 114ms/step - loss: 2.2018 - accuracy: 0.1357 - val_loss: 2.2205 - val_accuracy: 0.1304\n",
      "Epoch 163/1000\n",
      "9/9 [==============================] - 1s 97ms/step - loss: 2.2016 - accuracy: 0.1464 - val_loss: 2.2211 - val_accuracy: 0.1304\n",
      "Epoch 164/1000\n",
      "9/9 [==============================] - 1s 103ms/step - loss: 2.2014 - accuracy: 0.1357 - val_loss: 2.2226 - val_accuracy: 0.1304\n",
      "Epoch 165/1000\n",
      "9/9 [==============================] - 1s 99ms/step - loss: 2.2010 - accuracy: 0.1321 - val_loss: 2.2230 - val_accuracy: 0.1304\n",
      "Epoch 166/1000\n",
      "9/9 [==============================] - 1s 95ms/step - loss: 2.2003 - accuracy: 0.1321 - val_loss: 2.2223 - val_accuracy: 0.1304\n",
      "Epoch 167/1000\n",
      "9/9 [==============================] - 1s 96ms/step - loss: 2.2020 - accuracy: 0.1179 - val_loss: 2.2213 - val_accuracy: 0.1304\n",
      "Epoch 168/1000\n",
      "9/9 [==============================] - 1s 100ms/step - loss: 2.2019 - accuracy: 0.1464 - val_loss: 2.2211 - val_accuracy: 0.1304\n",
      "Epoch 169/1000\n",
      "9/9 [==============================] - 1s 96ms/step - loss: 2.2025 - accuracy: 0.1357 - val_loss: 2.2218 - val_accuracy: 0.1304\n",
      "Epoch 170/1000\n",
      "9/9 [==============================] - 1s 96ms/step - loss: 2.2011 - accuracy: 0.1464 - val_loss: 2.2216 - val_accuracy: 0.1304\n",
      "Epoch 171/1000\n",
      "9/9 [==============================] - 1s 95ms/step - loss: 2.2013 - accuracy: 0.1179 - val_loss: 2.2201 - val_accuracy: 0.1304\n",
      "Epoch 172/1000\n",
      "9/9 [==============================] - 1s 94ms/step - loss: 2.2012 - accuracy: 0.0964 - val_loss: 2.2217 - val_accuracy: 0.1304\n",
      "Epoch 173/1000\n",
      "9/9 [==============================] - 1s 97ms/step - loss: 2.2041 - accuracy: 0.1464 - val_loss: 2.2241 - val_accuracy: 0.1304\n",
      "Epoch 174/1000\n",
      "9/9 [==============================] - 1s 99ms/step - loss: 2.2004 - accuracy: 0.1429 - val_loss: 2.2225 - val_accuracy: 0.1304\n",
      "Epoch 175/1000\n",
      "9/9 [==============================] - 1s 95ms/step - loss: 2.2016 - accuracy: 0.1464 - val_loss: 2.2238 - val_accuracy: 0.1304\n",
      "Epoch 176/1000\n",
      "9/9 [==============================] - 1s 95ms/step - loss: 2.2026 - accuracy: 0.1286 - val_loss: 2.2211 - val_accuracy: 0.1304\n",
      "Epoch 177/1000\n",
      "9/9 [==============================] - 1s 95ms/step - loss: 2.2017 - accuracy: 0.1464 - val_loss: 2.2197 - val_accuracy: 0.1304\n",
      "Epoch 178/1000\n",
      "9/9 [==============================] - 1s 96ms/step - loss: 2.2025 - accuracy: 0.1143 - val_loss: 2.2209 - val_accuracy: 0.1304\n",
      "Epoch 179/1000\n",
      "9/9 [==============================] - 1s 95ms/step - loss: 2.2009 - accuracy: 0.1393 - val_loss: 2.2208 - val_accuracy: 0.1304\n",
      "Epoch 180/1000\n",
      "9/9 [==============================] - 1s 99ms/step - loss: 2.2019 - accuracy: 0.1393 - val_loss: 2.2244 - val_accuracy: 0.1304\n",
      "Epoch 181/1000\n",
      "9/9 [==============================] - 1s 96ms/step - loss: 2.2029 - accuracy: 0.1464 - val_loss: 2.2226 - val_accuracy: 0.1304\n",
      "Epoch 182/1000\n",
      "9/9 [==============================] - 1s 94ms/step - loss: 2.2007 - accuracy: 0.1286 - val_loss: 2.2206 - val_accuracy: 0.1304\n",
      "Epoch 183/1000\n",
      "9/9 [==============================] - 1s 96ms/step - loss: 2.2003 - accuracy: 0.1179 - val_loss: 2.2202 - val_accuracy: 0.1304\n",
      "Epoch 184/1000\n",
      "9/9 [==============================] - 1s 96ms/step - loss: 2.2041 - accuracy: 0.1286 - val_loss: 2.2222 - val_accuracy: 0.1304\n",
      "Epoch 185/1000\n",
      "9/9 [==============================] - 1s 96ms/step - loss: 2.2031 - accuracy: 0.1464 - val_loss: 2.2220 - val_accuracy: 0.1304\n",
      "Epoch 186/1000\n",
      "9/9 [==============================] - 1s 100ms/step - loss: 2.2006 - accuracy: 0.1357 - val_loss: 2.2214 - val_accuracy: 0.1304\n",
      "Epoch 187/1000\n",
      "9/9 [==============================] - 1s 96ms/step - loss: 2.2028 - accuracy: 0.1143 - val_loss: 2.2200 - val_accuracy: 0.1304\n",
      "Epoch 188/1000\n",
      "9/9 [==============================] - 1s 95ms/step - loss: 2.2026 - accuracy: 0.1357 - val_loss: 2.2234 - val_accuracy: 0.1304\n",
      "Epoch 189/1000\n",
      "9/9 [==============================] - 1s 94ms/step - loss: 2.2025 - accuracy: 0.1000 - val_loss: 2.2215 - val_accuracy: 0.1304\n",
      "Epoch 190/1000\n",
      "9/9 [==============================] - 1s 107ms/step - loss: 2.2013 - accuracy: 0.1464 - val_loss: 2.2223 - val_accuracy: 0.1304\n",
      "Epoch 191/1000\n",
      "9/9 [==============================] - 1s 100ms/step - loss: 2.2017 - accuracy: 0.1500 - val_loss: 2.2219 - val_accuracy: 0.1304\n",
      "Epoch 192/1000\n",
      "9/9 [==============================] - 1s 95ms/step - loss: 2.2011 - accuracy: 0.1464 - val_loss: 2.2225 - val_accuracy: 0.1304\n",
      "Epoch 193/1000\n",
      "9/9 [==============================] - 1s 96ms/step - loss: 2.2022 - accuracy: 0.1464 - val_loss: 2.2215 - val_accuracy: 0.1304\n",
      "Epoch 194/1000\n",
      "9/9 [==============================] - 1s 96ms/step - loss: 2.2023 - accuracy: 0.1357 - val_loss: 2.2199 - val_accuracy: 0.1304\n",
      "Epoch 195/1000\n",
      "9/9 [==============================] - 1s 96ms/step - loss: 2.2014 - accuracy: 0.1321 - val_loss: 2.2229 - val_accuracy: 0.1304\n",
      "Epoch 196/1000\n",
      "9/9 [==============================] - 1s 96ms/step - loss: 2.2023 - accuracy: 0.1464 - val_loss: 2.2230 - val_accuracy: 0.1304\n",
      "Epoch 197/1000\n",
      "9/9 [==============================] - 1s 102ms/step - loss: 2.2005 - accuracy: 0.1536 - val_loss: 2.2226 - val_accuracy: 0.1304\n",
      "Epoch 198/1000\n",
      "9/9 [==============================] - 1s 95ms/step - loss: 2.2008 - accuracy: 0.1464 - val_loss: 2.2225 - val_accuracy: 0.1304\n",
      "Epoch 199/1000\n",
      "9/9 [==============================] - 1s 96ms/step - loss: 2.2012 - accuracy: 0.1393 - val_loss: 2.2206 - val_accuracy: 0.1304\n",
      "Epoch 200/1000\n",
      "9/9 [==============================] - 1s 96ms/step - loss: 2.2021 - accuracy: 0.1393 - val_loss: 2.2203 - val_accuracy: 0.1304\n",
      "Epoch 201/1000\n",
      "9/9 [==============================] - 1s 95ms/step - loss: 2.2009 - accuracy: 0.1250 - val_loss: 2.2218 - val_accuracy: 0.1304\n",
      "Epoch 202/1000\n",
      "9/9 [==============================] - 1s 95ms/step - loss: 2.2020 - accuracy: 0.1464 - val_loss: 2.2217 - val_accuracy: 0.1304\n",
      "Epoch 203/1000\n",
      "9/9 [==============================] - 1s 102ms/step - loss: 2.2019 - accuracy: 0.1214 - val_loss: 2.2214 - val_accuracy: 0.1304\n",
      "Epoch 204/1000\n",
      "9/9 [==============================] - 1s 95ms/step - loss: 2.2028 - accuracy: 0.1357 - val_loss: 2.2225 - val_accuracy: 0.1304\n",
      "Epoch 205/1000\n",
      "9/9 [==============================] - 1s 96ms/step - loss: 2.2018 - accuracy: 0.1036 - val_loss: 2.2213 - val_accuracy: 0.1304\n",
      "Epoch 206/1000\n",
      "9/9 [==============================] - 1s 97ms/step - loss: 2.2012 - accuracy: 0.1393 - val_loss: 2.2207 - val_accuracy: 0.1304\n",
      "Epoch 207/1000\n",
      "9/9 [==============================] - 1s 96ms/step - loss: 2.2027 - accuracy: 0.1321 - val_loss: 2.2228 - val_accuracy: 0.1304\n",
      "Epoch 208/1000\n",
      "9/9 [==============================] - 1s 98ms/step - loss: 2.2013 - accuracy: 0.1321 - val_loss: 2.2226 - val_accuracy: 0.1304\n",
      "Epoch 209/1000\n",
      "9/9 [==============================] - 1s 99ms/step - loss: 2.2125 - accuracy: 0.1464 - val_loss: 2.2307 - val_accuracy: 0.1304\n",
      "Epoch 210/1000\n",
      "9/9 [==============================] - 1s 97ms/step - loss: 2.2052 - accuracy: 0.1429 - val_loss: 2.2188 - val_accuracy: 0.1304\n",
      "Epoch 211/1000\n",
      "9/9 [==============================] - 1s 110ms/step - loss: 2.2069 - accuracy: 0.1464 - val_loss: 2.2176 - val_accuracy: 0.1304\n",
      "Epoch 212/1000\n",
      "9/9 [==============================] - 1s 95ms/step - loss: 2.2104 - accuracy: 0.1321 - val_loss: 2.2279 - val_accuracy: 0.1304\n",
      "Epoch 213/1000\n",
      "9/9 [==============================] - 1s 96ms/step - loss: 2.2044 - accuracy: 0.1464 - val_loss: 2.2250 - val_accuracy: 0.1304\n",
      "Epoch 214/1000\n",
      "9/9 [==============================] - 1s 100ms/step - loss: 2.2051 - accuracy: 0.1393 - val_loss: 2.2221 - val_accuracy: 0.1304\n",
      "Epoch 215/1000\n",
      "9/9 [==============================] - 1s 96ms/step - loss: 2.2085 - accuracy: 0.1464 - val_loss: 2.2231 - val_accuracy: 0.1304\n",
      "Epoch 216/1000\n",
      "9/9 [==============================] - 1s 96ms/step - loss: 2.2010 - accuracy: 0.1429 - val_loss: 2.2213 - val_accuracy: 0.1304\n",
      "Epoch 217/1000\n",
      "9/9 [==============================] - 1s 94ms/step - loss: 2.2034 - accuracy: 0.1464 - val_loss: 2.2208 - val_accuracy: 0.1304\n",
      "Epoch 218/1000\n",
      "9/9 [==============================] - 1s 95ms/step - loss: 2.2045 - accuracy: 0.1464 - val_loss: 2.2197 - val_accuracy: 0.1304\n",
      "Epoch 219/1000\n",
      "9/9 [==============================] - 1s 102ms/step - loss: 2.2050 - accuracy: 0.1429 - val_loss: 2.2192 - val_accuracy: 0.1304\n",
      "Epoch 220/1000\n",
      "9/9 [==============================] - 1s 100ms/step - loss: 2.2021 - accuracy: 0.1464 - val_loss: 2.2248 - val_accuracy: 0.1304\n",
      "Epoch 221/1000\n",
      "9/9 [==============================] - 1s 96ms/step - loss: 2.2040 - accuracy: 0.1107 - val_loss: 2.2242 - val_accuracy: 0.1304\n",
      "Epoch 222/1000\n",
      "9/9 [==============================] - 1s 95ms/step - loss: 2.2049 - accuracy: 0.1286 - val_loss: 2.2243 - val_accuracy: 0.1304\n",
      "Epoch 223/1000\n",
      "9/9 [==============================] - 1s 96ms/step - loss: 2.2005 - accuracy: 0.1321 - val_loss: 2.2221 - val_accuracy: 0.1304\n",
      "Epoch 224/1000\n",
      "9/9 [==============================] - 1s 97ms/step - loss: 2.2023 - accuracy: 0.1393 - val_loss: 2.2211 - val_accuracy: 0.1304\n",
      "Epoch 225/1000\n",
      "9/9 [==============================] - 1s 101ms/step - loss: 2.2053 - accuracy: 0.1071 - val_loss: 2.2225 - val_accuracy: 0.1304\n",
      "Epoch 226/1000\n",
      "9/9 [==============================] - 1s 100ms/step - loss: 2.2006 - accuracy: 0.1464 - val_loss: 2.2236 - val_accuracy: 0.1304\n",
      "Epoch 227/1000\n",
      "9/9 [==============================] - 1s 100ms/step - loss: 2.2058 - accuracy: 0.1429 - val_loss: 2.2273 - val_accuracy: 0.1304\n",
      "Epoch 228/1000\n",
      "9/9 [==============================] - 1s 93ms/step - loss: 2.2047 - accuracy: 0.1179 - val_loss: 2.2213 - val_accuracy: 0.1304\n",
      "Epoch 229/1000\n",
      "9/9 [==============================] - 1s 95ms/step - loss: 2.2044 - accuracy: 0.1250 - val_loss: 2.2195 - val_accuracy: 0.1304\n",
      "Epoch 230/1000\n",
      "9/9 [==============================] - 1s 95ms/step - loss: 2.2097 - accuracy: 0.1179 - val_loss: 2.2185 - val_accuracy: 0.1304\n",
      "Epoch 231/1000\n",
      "9/9 [==============================] - 1s 99ms/step - loss: 2.2047 - accuracy: 0.1464 - val_loss: 2.2265 - val_accuracy: 0.1304\n",
      "Epoch 232/1000\n",
      "9/9 [==============================] - 1s 96ms/step - loss: 2.2034 - accuracy: 0.1429 - val_loss: 2.2259 - val_accuracy: 0.1304\n",
      "Epoch 233/1000\n",
      "9/9 [==============================] - 1s 95ms/step - loss: 2.2081 - accuracy: 0.1464 - val_loss: 2.2237 - val_accuracy: 0.1304\n",
      "Epoch 234/1000\n",
      "9/9 [==============================] - 1s 95ms/step - loss: 2.2032 - accuracy: 0.1393 - val_loss: 2.2217 - val_accuracy: 0.1304\n",
      "Epoch 235/1000\n",
      "9/9 [==============================] - 1s 95ms/step - loss: 2.2024 - accuracy: 0.1464 - val_loss: 2.2233 - val_accuracy: 0.1304\n",
      "Epoch 236/1000\n",
      "9/9 [==============================] - 1s 96ms/step - loss: 2.2041 - accuracy: 0.1464 - val_loss: 2.2222 - val_accuracy: 0.1304\n",
      "Epoch 237/1000\n",
      "9/9 [==============================] - 1s 99ms/step - loss: 2.2022 - accuracy: 0.1286 - val_loss: 2.2211 - val_accuracy: 0.1304\n",
      "Epoch 238/1000\n",
      "9/9 [==============================] - 1s 97ms/step - loss: 2.2038 - accuracy: 0.1464 - val_loss: 2.2195 - val_accuracy: 0.1304\n",
      "Epoch 239/1000\n",
      "9/9 [==============================] - 1s 95ms/step - loss: 2.2070 - accuracy: 0.1250 - val_loss: 2.2222 - val_accuracy: 0.1304\n",
      "Epoch 240/1000\n",
      "9/9 [==============================] - 1s 95ms/step - loss: 2.2014 - accuracy: 0.1464 - val_loss: 2.2244 - val_accuracy: 0.1304\n",
      "Epoch 241/1000\n",
      "9/9 [==============================] - 1s 96ms/step - loss: 2.2048 - accuracy: 0.1214 - val_loss: 2.2228 - val_accuracy: 0.1304\n",
      "Epoch 242/1000\n",
      "9/9 [==============================] - 1s 96ms/step - loss: 2.2032 - accuracy: 0.1071 - val_loss: 2.2200 - val_accuracy: 0.1304\n",
      "Epoch 243/1000\n",
      "9/9 [==============================] - 1s 101ms/step - loss: 2.2031 - accuracy: 0.1429 - val_loss: 2.2237 - val_accuracy: 0.1304\n",
      "Epoch 244/1000\n",
      "9/9 [==============================] - 1s 95ms/step - loss: 2.2043 - accuracy: 0.1464 - val_loss: 2.2235 - val_accuracy: 0.1304\n",
      "Epoch 245/1000\n",
      "9/9 [==============================] - 1s 96ms/step - loss: 2.2013 - accuracy: 0.1250 - val_loss: 2.2226 - val_accuracy: 0.1304\n",
      "Epoch 246/1000\n",
      "9/9 [==============================] - 1s 100ms/step - loss: 2.2025 - accuracy: 0.1464 - val_loss: 2.2217 - val_accuracy: 0.1304\n",
      "Epoch 247/1000\n",
      "9/9 [==============================] - 1s 97ms/step - loss: 2.2015 - accuracy: 0.1464 - val_loss: 2.2213 - val_accuracy: 0.1304\n",
      "Epoch 248/1000\n",
      "9/9 [==============================] - 1s 97ms/step - loss: 2.2035 - accuracy: 0.1250 - val_loss: 2.2222 - val_accuracy: 0.1304\n",
      "Epoch 249/1000\n",
      "9/9 [==============================] - 1s 100ms/step - loss: 2.2018 - accuracy: 0.1464 - val_loss: 2.2209 - val_accuracy: 0.1304\n",
      "Epoch 250/1000\n",
      "9/9 [==============================] - 1s 95ms/step - loss: 2.2053 - accuracy: 0.1286 - val_loss: 2.2209 - val_accuracy: 0.1304\n",
      "Epoch 251/1000\n",
      "9/9 [==============================] - 1s 95ms/step - loss: 2.2034 - accuracy: 0.1286 - val_loss: 2.2247 - val_accuracy: 0.1304\n",
      "Epoch 252/1000\n",
      "9/9 [==============================] - 1s 96ms/step - loss: 2.2039 - accuracy: 0.1429 - val_loss: 2.2223 - val_accuracy: 0.1304\n",
      "Epoch 253/1000\n",
      "9/9 [==============================] - 1s 94ms/step - loss: 2.2043 - accuracy: 0.1214 - val_loss: 2.2215 - val_accuracy: 0.1304\n",
      "Epoch 254/1000\n",
      "9/9 [==============================] - 1s 97ms/step - loss: 2.2056 - accuracy: 0.1393 - val_loss: 2.2256 - val_accuracy: 0.1304\n",
      "Epoch 255/1000\n",
      "9/9 [==============================] - 1s 96ms/step - loss: 2.2031 - accuracy: 0.1429 - val_loss: 2.2232 - val_accuracy: 0.1304\n",
      "Epoch 256/1000\n",
      "9/9 [==============================] - 1s 96ms/step - loss: 2.2032 - accuracy: 0.1464 - val_loss: 2.2216 - val_accuracy: 0.1304\n",
      "Epoch 257/1000\n",
      "9/9 [==============================] - 1s 95ms/step - loss: 2.2024 - accuracy: 0.1464 - val_loss: 2.2209 - val_accuracy: 0.1304\n",
      "Epoch 258/1000\n",
      "9/9 [==============================] - 1s 95ms/step - loss: 2.2008 - accuracy: 0.1357 - val_loss: 2.2225 - val_accuracy: 0.1304\n",
      "Epoch 259/1000\n",
      "9/9 [==============================] - 1s 95ms/step - loss: 2.2024 - accuracy: 0.1179 - val_loss: 2.2227 - val_accuracy: 0.1304\n",
      "Epoch 260/1000\n",
      "9/9 [==============================] - 1s 106ms/step - loss: 2.2019 - accuracy: 0.1393 - val_loss: 2.2205 - val_accuracy: 0.1304\n",
      "Epoch 261/1000\n",
      "9/9 [==============================] - 1s 96ms/step - loss: 2.2033 - accuracy: 0.1321 - val_loss: 2.2202 - val_accuracy: 0.1304\n",
      "Epoch 262/1000\n",
      "9/9 [==============================] - 1s 95ms/step - loss: 2.2021 - accuracy: 0.1464 - val_loss: 2.2228 - val_accuracy: 0.1304\n",
      "Epoch 263/1000\n",
      "9/9 [==============================] - 1s 94ms/step - loss: 2.2020 - accuracy: 0.1357 - val_loss: 2.2225 - val_accuracy: 0.1304\n",
      "Epoch 264/1000\n",
      "9/9 [==============================] - 1s 95ms/step - loss: 2.2034 - accuracy: 0.0964 - val_loss: 2.2234 - val_accuracy: 0.1304\n",
      "Epoch 265/1000\n",
      "9/9 [==============================] - 1s 95ms/step - loss: 2.2050 - accuracy: 0.1286 - val_loss: 2.2245 - val_accuracy: 0.1304\n",
      "Epoch 266/1000\n",
      "9/9 [==============================] - 1s 104ms/step - loss: 2.2003 - accuracy: 0.1500 - val_loss: 2.2219 - val_accuracy: 0.1304\n",
      "Epoch 267/1000\n",
      "9/9 [==============================] - 1s 105ms/step - loss: 2.2021 - accuracy: 0.1464 - val_loss: 2.2216 - val_accuracy: 0.1304\n",
      "Epoch 268/1000\n",
      "9/9 [==============================] - 1s 109ms/step - loss: 2.2019 - accuracy: 0.1357 - val_loss: 2.2222 - val_accuracy: 0.1304\n",
      "Epoch 269/1000\n",
      "5/9 [===============>..............] - ETA: 0s - loss: 2.2062 - accuracy: 0.1500"
     ]
    },
    {
     "ename": "KeyboardInterrupt",
     "evalue": "",
     "output_type": "error",
     "traceback": [
      "\u001b[1;31m---------------------------------------------------------------------------\u001b[0m",
      "\u001b[1;31mKeyboardInterrupt\u001b[0m                         Traceback (most recent call last)",
      "\u001b[1;32m~\\AppData\\Local\\Temp/ipykernel_3860/3024216635.py\u001b[0m in \u001b[0;36m<module>\u001b[1;34m\u001b[0m\n\u001b[0;32m      1\u001b[0m \u001b[0mseed_everything\u001b[0m\u001b[1;33m(\u001b[0m\u001b[0mseed\u001b[0m\u001b[1;33m=\u001b[0m\u001b[0mSEED\u001b[0m\u001b[1;33m)\u001b[0m\u001b[1;33m\u001b[0m\u001b[1;33m\u001b[0m\u001b[0m\n\u001b[0;32m      2\u001b[0m \u001b[1;33m\u001b[0m\u001b[0m\n\u001b[1;32m----> 3\u001b[1;33m \u001b[0mhistory\u001b[0m \u001b[1;33m=\u001b[0m \u001b[0mmodel\u001b[0m\u001b[1;33m.\u001b[0m\u001b[0mfit\u001b[0m\u001b[1;33m(\u001b[0m\u001b[0mX_train\u001b[0m\u001b[1;33m,\u001b[0m \u001b[0my_train\u001b[0m\u001b[1;33m,\u001b[0m \u001b[0mvalidation_data\u001b[0m\u001b[1;33m=\u001b[0m\u001b[1;33m(\u001b[0m\u001b[0mX_val\u001b[0m\u001b[1;33m,\u001b[0m \u001b[0my_val\u001b[0m\u001b[1;33m)\u001b[0m\u001b[1;33m,\u001b[0m \u001b[0mepochs\u001b[0m\u001b[1;33m=\u001b[0m\u001b[0mconfig\u001b[0m\u001b[1;33m.\u001b[0m\u001b[0mepoch\u001b[0m\u001b[1;33m,\u001b[0m \u001b[0mcallbacks\u001b[0m\u001b[1;33m=\u001b[0m\u001b[1;33m[\u001b[0m\u001b[0mwandb_callback\u001b[0m\u001b[1;33m]\u001b[0m\u001b[1;33m)\u001b[0m\u001b[1;33m\u001b[0m\u001b[1;33m\u001b[0m\u001b[0m\n\u001b[0m\u001b[0;32m      4\u001b[0m \u001b[1;33m\u001b[0m\u001b[0m\n\u001b[0;32m      5\u001b[0m \u001b[0mwandb\u001b[0m\u001b[1;33m.\u001b[0m\u001b[0mfinish\u001b[0m\u001b[1;33m(\u001b[0m\u001b[1;33m)\u001b[0m\u001b[1;33m\u001b[0m\u001b[1;33m\u001b[0m\u001b[0m\n",
      "\u001b[1;32md:\\FYP\\sign-recognition\\ActionDetectionforSignLanguage-main\\ActionDetectionforSignLanguage-main\\venv\\lib\\site-packages\\wandb\\integration\\keras\\keras.py\u001b[0m in \u001b[0;36mnew_v2\u001b[1;34m(*args, **kwargs)\u001b[0m\n\u001b[0;32m    166\u001b[0m             \u001b[1;32mfor\u001b[0m \u001b[0mcbk\u001b[0m \u001b[1;32min\u001b[0m \u001b[0mcbks\u001b[0m\u001b[1;33m:\u001b[0m\u001b[1;33m\u001b[0m\u001b[1;33m\u001b[0m\u001b[0m\n\u001b[0;32m    167\u001b[0m                 \u001b[0mset_wandb_attrs\u001b[0m\u001b[1;33m(\u001b[0m\u001b[0mcbk\u001b[0m\u001b[1;33m,\u001b[0m \u001b[0mval_data\u001b[0m\u001b[1;33m)\u001b[0m\u001b[1;33m\u001b[0m\u001b[1;33m\u001b[0m\u001b[0m\n\u001b[1;32m--> 168\u001b[1;33m         \u001b[1;32mreturn\u001b[0m \u001b[0mold_v2\u001b[0m\u001b[1;33m(\u001b[0m\u001b[1;33m*\u001b[0m\u001b[0margs\u001b[0m\u001b[1;33m,\u001b[0m \u001b[1;33m**\u001b[0m\u001b[0mkwargs\u001b[0m\u001b[1;33m)\u001b[0m\u001b[1;33m\u001b[0m\u001b[1;33m\u001b[0m\u001b[0m\n\u001b[0m\u001b[0;32m    169\u001b[0m \u001b[1;33m\u001b[0m\u001b[0m\n\u001b[0;32m    170\u001b[0m     \u001b[0mtraining_arrays\u001b[0m\u001b[1;33m.\u001b[0m\u001b[0morig_fit_loop\u001b[0m \u001b[1;33m=\u001b[0m \u001b[0mold_arrays\u001b[0m\u001b[1;33m\u001b[0m\u001b[1;33m\u001b[0m\u001b[0m\n",
      "\u001b[1;32md:\\FYP\\sign-recognition\\ActionDetectionforSignLanguage-main\\ActionDetectionforSignLanguage-main\\venv\\lib\\site-packages\\keras\\utils\\traceback_utils.py\u001b[0m in \u001b[0;36merror_handler\u001b[1;34m(*args, **kwargs)\u001b[0m\n\u001b[0;32m     62\u001b[0m     \u001b[0mfiltered_tb\u001b[0m \u001b[1;33m=\u001b[0m \u001b[1;32mNone\u001b[0m\u001b[1;33m\u001b[0m\u001b[1;33m\u001b[0m\u001b[0m\n\u001b[0;32m     63\u001b[0m     \u001b[1;32mtry\u001b[0m\u001b[1;33m:\u001b[0m\u001b[1;33m\u001b[0m\u001b[1;33m\u001b[0m\u001b[0m\n\u001b[1;32m---> 64\u001b[1;33m       \u001b[1;32mreturn\u001b[0m \u001b[0mfn\u001b[0m\u001b[1;33m(\u001b[0m\u001b[1;33m*\u001b[0m\u001b[0margs\u001b[0m\u001b[1;33m,\u001b[0m \u001b[1;33m**\u001b[0m\u001b[0mkwargs\u001b[0m\u001b[1;33m)\u001b[0m\u001b[1;33m\u001b[0m\u001b[1;33m\u001b[0m\u001b[0m\n\u001b[0m\u001b[0;32m     65\u001b[0m     \u001b[1;32mexcept\u001b[0m \u001b[0mException\u001b[0m \u001b[1;32mas\u001b[0m \u001b[0me\u001b[0m\u001b[1;33m:\u001b[0m  \u001b[1;31m# pylint: disable=broad-except\u001b[0m\u001b[1;33m\u001b[0m\u001b[1;33m\u001b[0m\u001b[0m\n\u001b[0;32m     66\u001b[0m       \u001b[0mfiltered_tb\u001b[0m \u001b[1;33m=\u001b[0m \u001b[0m_process_traceback_frames\u001b[0m\u001b[1;33m(\u001b[0m\u001b[0me\u001b[0m\u001b[1;33m.\u001b[0m\u001b[0m__traceback__\u001b[0m\u001b[1;33m)\u001b[0m\u001b[1;33m\u001b[0m\u001b[1;33m\u001b[0m\u001b[0m\n",
      "\u001b[1;32md:\\FYP\\sign-recognition\\ActionDetectionforSignLanguage-main\\ActionDetectionforSignLanguage-main\\venv\\lib\\site-packages\\keras\\engine\\training.py\u001b[0m in \u001b[0;36mfit\u001b[1;34m(self, x, y, batch_size, epochs, verbose, callbacks, validation_split, validation_data, shuffle, class_weight, sample_weight, initial_epoch, steps_per_epoch, validation_steps, validation_batch_size, validation_freq, max_queue_size, workers, use_multiprocessing)\u001b[0m\n\u001b[0;32m   1214\u001b[0m                 _r=1):\n\u001b[0;32m   1215\u001b[0m               \u001b[0mcallbacks\u001b[0m\u001b[1;33m.\u001b[0m\u001b[0mon_train_batch_begin\u001b[0m\u001b[1;33m(\u001b[0m\u001b[0mstep\u001b[0m\u001b[1;33m)\u001b[0m\u001b[1;33m\u001b[0m\u001b[1;33m\u001b[0m\u001b[0m\n\u001b[1;32m-> 1216\u001b[1;33m               \u001b[0mtmp_logs\u001b[0m \u001b[1;33m=\u001b[0m \u001b[0mself\u001b[0m\u001b[1;33m.\u001b[0m\u001b[0mtrain_function\u001b[0m\u001b[1;33m(\u001b[0m\u001b[0miterator\u001b[0m\u001b[1;33m)\u001b[0m\u001b[1;33m\u001b[0m\u001b[1;33m\u001b[0m\u001b[0m\n\u001b[0m\u001b[0;32m   1217\u001b[0m               \u001b[1;32mif\u001b[0m \u001b[0mdata_handler\u001b[0m\u001b[1;33m.\u001b[0m\u001b[0mshould_sync\u001b[0m\u001b[1;33m:\u001b[0m\u001b[1;33m\u001b[0m\u001b[1;33m\u001b[0m\u001b[0m\n\u001b[0;32m   1218\u001b[0m                 \u001b[0mcontext\u001b[0m\u001b[1;33m.\u001b[0m\u001b[0masync_wait\u001b[0m\u001b[1;33m(\u001b[0m\u001b[1;33m)\u001b[0m\u001b[1;33m\u001b[0m\u001b[1;33m\u001b[0m\u001b[0m\n",
      "\u001b[1;32md:\\FYP\\sign-recognition\\ActionDetectionforSignLanguage-main\\ActionDetectionforSignLanguage-main\\venv\\lib\\site-packages\\tensorflow\\python\\util\\traceback_utils.py\u001b[0m in \u001b[0;36merror_handler\u001b[1;34m(*args, **kwargs)\u001b[0m\n\u001b[0;32m    148\u001b[0m     \u001b[0mfiltered_tb\u001b[0m \u001b[1;33m=\u001b[0m \u001b[1;32mNone\u001b[0m\u001b[1;33m\u001b[0m\u001b[1;33m\u001b[0m\u001b[0m\n\u001b[0;32m    149\u001b[0m     \u001b[1;32mtry\u001b[0m\u001b[1;33m:\u001b[0m\u001b[1;33m\u001b[0m\u001b[1;33m\u001b[0m\u001b[0m\n\u001b[1;32m--> 150\u001b[1;33m       \u001b[1;32mreturn\u001b[0m \u001b[0mfn\u001b[0m\u001b[1;33m(\u001b[0m\u001b[1;33m*\u001b[0m\u001b[0margs\u001b[0m\u001b[1;33m,\u001b[0m \u001b[1;33m**\u001b[0m\u001b[0mkwargs\u001b[0m\u001b[1;33m)\u001b[0m\u001b[1;33m\u001b[0m\u001b[1;33m\u001b[0m\u001b[0m\n\u001b[0m\u001b[0;32m    151\u001b[0m     \u001b[1;32mexcept\u001b[0m \u001b[0mException\u001b[0m \u001b[1;32mas\u001b[0m \u001b[0me\u001b[0m\u001b[1;33m:\u001b[0m\u001b[1;33m\u001b[0m\u001b[1;33m\u001b[0m\u001b[0m\n\u001b[0;32m    152\u001b[0m       \u001b[0mfiltered_tb\u001b[0m \u001b[1;33m=\u001b[0m \u001b[0m_process_traceback_frames\u001b[0m\u001b[1;33m(\u001b[0m\u001b[0me\u001b[0m\u001b[1;33m.\u001b[0m\u001b[0m__traceback__\u001b[0m\u001b[1;33m)\u001b[0m\u001b[1;33m\u001b[0m\u001b[1;33m\u001b[0m\u001b[0m\n",
      "\u001b[1;32md:\\FYP\\sign-recognition\\ActionDetectionforSignLanguage-main\\ActionDetectionforSignLanguage-main\\venv\\lib\\site-packages\\tensorflow\\python\\eager\\def_function.py\u001b[0m in \u001b[0;36m__call__\u001b[1;34m(self, *args, **kwds)\u001b[0m\n\u001b[0;32m    908\u001b[0m \u001b[1;33m\u001b[0m\u001b[0m\n\u001b[0;32m    909\u001b[0m       \u001b[1;32mwith\u001b[0m \u001b[0mOptionalXlaContext\u001b[0m\u001b[1;33m(\u001b[0m\u001b[0mself\u001b[0m\u001b[1;33m.\u001b[0m\u001b[0m_jit_compile\u001b[0m\u001b[1;33m)\u001b[0m\u001b[1;33m:\u001b[0m\u001b[1;33m\u001b[0m\u001b[1;33m\u001b[0m\u001b[0m\n\u001b[1;32m--> 910\u001b[1;33m         \u001b[0mresult\u001b[0m \u001b[1;33m=\u001b[0m \u001b[0mself\u001b[0m\u001b[1;33m.\u001b[0m\u001b[0m_call\u001b[0m\u001b[1;33m(\u001b[0m\u001b[1;33m*\u001b[0m\u001b[0margs\u001b[0m\u001b[1;33m,\u001b[0m \u001b[1;33m**\u001b[0m\u001b[0mkwds\u001b[0m\u001b[1;33m)\u001b[0m\u001b[1;33m\u001b[0m\u001b[1;33m\u001b[0m\u001b[0m\n\u001b[0m\u001b[0;32m    911\u001b[0m \u001b[1;33m\u001b[0m\u001b[0m\n\u001b[0;32m    912\u001b[0m       \u001b[0mnew_tracing_count\u001b[0m \u001b[1;33m=\u001b[0m \u001b[0mself\u001b[0m\u001b[1;33m.\u001b[0m\u001b[0mexperimental_get_tracing_count\u001b[0m\u001b[1;33m(\u001b[0m\u001b[1;33m)\u001b[0m\u001b[1;33m\u001b[0m\u001b[1;33m\u001b[0m\u001b[0m\n",
      "\u001b[1;32md:\\FYP\\sign-recognition\\ActionDetectionforSignLanguage-main\\ActionDetectionforSignLanguage-main\\venv\\lib\\site-packages\\tensorflow\\python\\eager\\def_function.py\u001b[0m in \u001b[0;36m_call\u001b[1;34m(self, *args, **kwds)\u001b[0m\n\u001b[0;32m    940\u001b[0m       \u001b[1;31m# In this case we have created variables on the first call, so we run the\u001b[0m\u001b[1;33m\u001b[0m\u001b[1;33m\u001b[0m\u001b[0m\n\u001b[0;32m    941\u001b[0m       \u001b[1;31m# defunned version which is guaranteed to never create variables.\u001b[0m\u001b[1;33m\u001b[0m\u001b[1;33m\u001b[0m\u001b[0m\n\u001b[1;32m--> 942\u001b[1;33m       \u001b[1;32mreturn\u001b[0m \u001b[0mself\u001b[0m\u001b[1;33m.\u001b[0m\u001b[0m_stateless_fn\u001b[0m\u001b[1;33m(\u001b[0m\u001b[1;33m*\u001b[0m\u001b[0margs\u001b[0m\u001b[1;33m,\u001b[0m \u001b[1;33m**\u001b[0m\u001b[0mkwds\u001b[0m\u001b[1;33m)\u001b[0m  \u001b[1;31m# pylint: disable=not-callable\u001b[0m\u001b[1;33m\u001b[0m\u001b[1;33m\u001b[0m\u001b[0m\n\u001b[0m\u001b[0;32m    943\u001b[0m     \u001b[1;32melif\u001b[0m \u001b[0mself\u001b[0m\u001b[1;33m.\u001b[0m\u001b[0m_stateful_fn\u001b[0m \u001b[1;32mis\u001b[0m \u001b[1;32mnot\u001b[0m \u001b[1;32mNone\u001b[0m\u001b[1;33m:\u001b[0m\u001b[1;33m\u001b[0m\u001b[1;33m\u001b[0m\u001b[0m\n\u001b[0;32m    944\u001b[0m       \u001b[1;31m# Release the lock early so that multiple threads can perform the call\u001b[0m\u001b[1;33m\u001b[0m\u001b[1;33m\u001b[0m\u001b[0m\n",
      "\u001b[1;32md:\\FYP\\sign-recognition\\ActionDetectionforSignLanguage-main\\ActionDetectionforSignLanguage-main\\venv\\lib\\site-packages\\tensorflow\\python\\eager\\function.py\u001b[0m in \u001b[0;36m__call__\u001b[1;34m(self, *args, **kwargs)\u001b[0m\n\u001b[0;32m   3128\u001b[0m       (graph_function,\n\u001b[0;32m   3129\u001b[0m        filtered_flat_args) = self._maybe_define_function(args, kwargs)\n\u001b[1;32m-> 3130\u001b[1;33m     return graph_function._call_flat(\n\u001b[0m\u001b[0;32m   3131\u001b[0m         filtered_flat_args, captured_inputs=graph_function.captured_inputs)  # pylint: disable=protected-access\n\u001b[0;32m   3132\u001b[0m \u001b[1;33m\u001b[0m\u001b[0m\n",
      "\u001b[1;32md:\\FYP\\sign-recognition\\ActionDetectionforSignLanguage-main\\ActionDetectionforSignLanguage-main\\venv\\lib\\site-packages\\tensorflow\\python\\eager\\function.py\u001b[0m in \u001b[0;36m_call_flat\u001b[1;34m(self, args, captured_inputs, cancellation_manager)\u001b[0m\n\u001b[0;32m   1957\u001b[0m         and executing_eagerly):\n\u001b[0;32m   1958\u001b[0m       \u001b[1;31m# No tape is watching; skip to running the function.\u001b[0m\u001b[1;33m\u001b[0m\u001b[1;33m\u001b[0m\u001b[0m\n\u001b[1;32m-> 1959\u001b[1;33m       return self._build_call_outputs(self._inference_function.call(\n\u001b[0m\u001b[0;32m   1960\u001b[0m           ctx, args, cancellation_manager=cancellation_manager))\n\u001b[0;32m   1961\u001b[0m     forward_backward = self._select_forward_and_backward_functions(\n",
      "\u001b[1;32md:\\FYP\\sign-recognition\\ActionDetectionforSignLanguage-main\\ActionDetectionforSignLanguage-main\\venv\\lib\\site-packages\\tensorflow\\python\\eager\\function.py\u001b[0m in \u001b[0;36mcall\u001b[1;34m(self, ctx, args, cancellation_manager)\u001b[0m\n\u001b[0;32m    596\u001b[0m       \u001b[1;32mwith\u001b[0m \u001b[0m_InterpolateFunctionError\u001b[0m\u001b[1;33m(\u001b[0m\u001b[0mself\u001b[0m\u001b[1;33m)\u001b[0m\u001b[1;33m:\u001b[0m\u001b[1;33m\u001b[0m\u001b[1;33m\u001b[0m\u001b[0m\n\u001b[0;32m    597\u001b[0m         \u001b[1;32mif\u001b[0m \u001b[0mcancellation_manager\u001b[0m \u001b[1;32mis\u001b[0m \u001b[1;32mNone\u001b[0m\u001b[1;33m:\u001b[0m\u001b[1;33m\u001b[0m\u001b[1;33m\u001b[0m\u001b[0m\n\u001b[1;32m--> 598\u001b[1;33m           outputs = execute.execute(\n\u001b[0m\u001b[0;32m    599\u001b[0m               \u001b[0mstr\u001b[0m\u001b[1;33m(\u001b[0m\u001b[0mself\u001b[0m\u001b[1;33m.\u001b[0m\u001b[0msignature\u001b[0m\u001b[1;33m.\u001b[0m\u001b[0mname\u001b[0m\u001b[1;33m)\u001b[0m\u001b[1;33m,\u001b[0m\u001b[1;33m\u001b[0m\u001b[1;33m\u001b[0m\u001b[0m\n\u001b[0;32m    600\u001b[0m               \u001b[0mnum_outputs\u001b[0m\u001b[1;33m=\u001b[0m\u001b[0mself\u001b[0m\u001b[1;33m.\u001b[0m\u001b[0m_num_outputs\u001b[0m\u001b[1;33m,\u001b[0m\u001b[1;33m\u001b[0m\u001b[1;33m\u001b[0m\u001b[0m\n",
      "\u001b[1;32md:\\FYP\\sign-recognition\\ActionDetectionforSignLanguage-main\\ActionDetectionforSignLanguage-main\\venv\\lib\\site-packages\\tensorflow\\python\\eager\\execute.py\u001b[0m in \u001b[0;36mquick_execute\u001b[1;34m(op_name, num_outputs, inputs, attrs, ctx, name)\u001b[0m\n\u001b[0;32m     56\u001b[0m   \u001b[1;32mtry\u001b[0m\u001b[1;33m:\u001b[0m\u001b[1;33m\u001b[0m\u001b[1;33m\u001b[0m\u001b[0m\n\u001b[0;32m     57\u001b[0m     \u001b[0mctx\u001b[0m\u001b[1;33m.\u001b[0m\u001b[0mensure_initialized\u001b[0m\u001b[1;33m(\u001b[0m\u001b[1;33m)\u001b[0m\u001b[1;33m\u001b[0m\u001b[1;33m\u001b[0m\u001b[0m\n\u001b[1;32m---> 58\u001b[1;33m     tensors = pywrap_tfe.TFE_Py_Execute(ctx._handle, device_name, op_name,\n\u001b[0m\u001b[0;32m     59\u001b[0m                                         inputs, attrs, num_outputs)\n\u001b[0;32m     60\u001b[0m   \u001b[1;32mexcept\u001b[0m \u001b[0mcore\u001b[0m\u001b[1;33m.\u001b[0m\u001b[0m_NotOkStatusException\u001b[0m \u001b[1;32mas\u001b[0m \u001b[0me\u001b[0m\u001b[1;33m:\u001b[0m\u001b[1;33m\u001b[0m\u001b[1;33m\u001b[0m\u001b[0m\n",
      "\u001b[1;31mKeyboardInterrupt\u001b[0m: "
     ]
    }
   ],
   "source": [
    "seed_everything(seed=SEED)\n",
    "\n",
    "history = model.fit(X_train, y_train, validation_data=(X_val, y_val), epochs=config.epoch, callbacks=[wandb_callback])\n",
    "\n",
    "wandb.finish()"
   ]
  },
  {
   "cell_type": "code",
   "execution_count": null,
   "metadata": {},
   "outputs": [],
   "source": []
  },
  {
   "cell_type": "markdown",
   "metadata": {},
   "source": [
    "# 8. Make Predictions"
   ]
  },
  {
   "cell_type": "code",
   "execution_count": 72,
   "metadata": {},
   "outputs": [],
   "source": [
    "res = model.predict(X_test)"
   ]
  },
  {
   "cell_type": "code",
   "execution_count": 73,
   "metadata": {},
   "outputs": [
    {
     "data": {
      "text/plain": [
       "'hello'"
      ]
     },
     "execution_count": 73,
     "metadata": {},
     "output_type": "execute_result"
    }
   ],
   "source": [
    "actions[np.argmax(res[4])]"
   ]
  },
  {
   "cell_type": "code",
   "execution_count": 74,
   "metadata": {},
   "outputs": [
    {
     "data": {
      "text/plain": [
       "'thanks'"
      ]
     },
     "execution_count": 74,
     "metadata": {},
     "output_type": "execute_result"
    }
   ],
   "source": [
    "actions[np.argmax(y_test[4])]"
   ]
  },
  {
   "cell_type": "code",
   "execution_count": null,
   "metadata": {},
   "outputs": [],
   "source": []
  },
  {
   "cell_type": "markdown",
   "metadata": {},
   "source": [
    "# 9. Save Weights"
   ]
  },
  {
   "cell_type": "code",
   "execution_count": 75,
   "metadata": {},
   "outputs": [],
   "source": [
    "model.save('sign{}.h5'.format(TRIAL))"
   ]
  },
  {
   "cell_type": "code",
   "execution_count": 49,
   "metadata": {},
   "outputs": [],
   "source": [
    "del model"
   ]
  },
  {
   "cell_type": "code",
   "execution_count": 56,
   "metadata": {},
   "outputs": [],
   "source": [
    "model.load_weights('sign{}.h5'.format(TRIAL))"
   ]
  },
  {
   "cell_type": "code",
   "execution_count": null,
   "metadata": {},
   "outputs": [],
   "source": []
  },
  {
   "cell_type": "markdown",
   "metadata": {},
   "source": [
    "# 10. Evaluation using Confusion Matrix and Accuracy"
   ]
  },
  {
   "cell_type": "code",
   "execution_count": 76,
   "metadata": {},
   "outputs": [],
   "source": [
    "from sklearn.metrics import multilabel_confusion_matrix, accuracy_score"
   ]
  },
  {
   "cell_type": "code",
   "execution_count": 77,
   "metadata": {},
   "outputs": [],
   "source": [
    "yhat = model.predict(X_test)"
   ]
  },
  {
   "cell_type": "code",
   "execution_count": 78,
   "metadata": {},
   "outputs": [],
   "source": [
    "ytrue = np.argmax(y_test, axis=1).tolist()\n",
    "yhat = np.argmax(yhat, axis=1).tolist()"
   ]
  },
  {
   "cell_type": "code",
   "execution_count": 79,
   "metadata": {},
   "outputs": [
    {
     "data": {
      "text/plain": [
       "array([[[14,  0],\n",
       "        [ 2,  0]],\n",
       "\n",
       "       [[14,  1],\n",
       "        [ 1,  0]],\n",
       "\n",
       "       [[15,  0],\n",
       "        [ 1,  0]],\n",
       "\n",
       "       [[13,  1],\n",
       "        [ 2,  0]],\n",
       "\n",
       "       [[13,  1],\n",
       "        [ 0,  2]],\n",
       "\n",
       "       [[15,  0],\n",
       "        [ 1,  0]],\n",
       "\n",
       "       [[13,  2],\n",
       "        [ 0,  1]],\n",
       "\n",
       "       [[11,  3],\n",
       "        [ 2,  0]],\n",
       "\n",
       "       [[13,  1],\n",
       "        [ 2,  0]],\n",
       "\n",
       "       [[11,  3],\n",
       "        [ 1,  1]]], dtype=int64)"
      ]
     },
     "execution_count": 79,
     "metadata": {},
     "output_type": "execute_result"
    }
   ],
   "source": [
    "multilabel_confusion_matrix(ytrue, yhat)"
   ]
  },
  {
   "cell_type": "code",
   "execution_count": 61,
   "metadata": {},
   "outputs": [
    {
     "data": {
      "text/plain": [
       "0.9375"
      ]
     },
     "execution_count": 61,
     "metadata": {},
     "output_type": "execute_result"
    }
   ],
   "source": [
    "accuracy_score(ytrue, yhat)"
   ]
  },
  {
   "cell_type": "markdown",
   "metadata": {},
   "source": [
    "# Test Real Time"
   ]
  },
  {
   "cell_type": "code",
   "execution_count": 62,
   "metadata": {},
   "outputs": [],
   "source": [
    "colors = [(245,117,16), (117,245,16), (16,117,245)]\n",
    "def prob_viz(res, actions, input_frame, colors):\n",
    "    output_frame = input_frame.copy()\n",
    "    for num, prob in enumerate(res):\n",
    "        cv2.rectangle(output_frame, (0,60+num*40), (int(prob*100), 90+num*40), colors[num], -1)\n",
    "        cv2.putText(output_frame, actions[num], (0, 85+num*40), cv2.FONT_HERSHEY_SIMPLEX, 1, (255,255,255), 2, cv2.LINE_AA)\n",
    "        \n",
    "    return output_frame"
   ]
  },
  {
   "cell_type": "code",
   "execution_count": 63,
   "metadata": {},
   "outputs": [
    {
     "name": "stdout",
     "output_type": "stream",
     "text": [
      "<class 'mediapipe.python.solution_base.SolutionOutputs'>\n",
      "<class 'mediapipe.python.solution_base.SolutionOutputs'>\n",
      "<class 'mediapipe.python.solution_base.SolutionOutputs'>\n",
      "<class 'mediapipe.python.solution_base.SolutionOutputs'>\n",
      "<class 'mediapipe.python.solution_base.SolutionOutputs'>\n",
      "<class 'mediapipe.python.solution_base.SolutionOutputs'>\n",
      "<class 'mediapipe.python.solution_base.SolutionOutputs'>\n",
      "<class 'mediapipe.python.solution_base.SolutionOutputs'>\n",
      "<class 'mediapipe.python.solution_base.SolutionOutputs'>\n",
      "<class 'mediapipe.python.solution_base.SolutionOutputs'>\n",
      "<class 'mediapipe.python.solution_base.SolutionOutputs'>\n",
      "<class 'mediapipe.python.solution_base.SolutionOutputs'>\n",
      "<class 'mediapipe.python.solution_base.SolutionOutputs'>\n",
      "<class 'mediapipe.python.solution_base.SolutionOutputs'>\n",
      "<class 'mediapipe.python.solution_base.SolutionOutputs'>\n",
      "<class 'mediapipe.python.solution_base.SolutionOutputs'>\n",
      "<class 'mediapipe.python.solution_base.SolutionOutputs'>\n",
      "<class 'mediapipe.python.solution_base.SolutionOutputs'>\n",
      "<class 'mediapipe.python.solution_base.SolutionOutputs'>\n",
      "<class 'mediapipe.python.solution_base.SolutionOutputs'>\n",
      "<class 'mediapipe.python.solution_base.SolutionOutputs'>\n",
      "<class 'mediapipe.python.solution_base.SolutionOutputs'>\n",
      "<class 'mediapipe.python.solution_base.SolutionOutputs'>\n",
      "<class 'mediapipe.python.solution_base.SolutionOutputs'>\n",
      "<class 'mediapipe.python.solution_base.SolutionOutputs'>\n",
      "<class 'mediapipe.python.solution_base.SolutionOutputs'>\n",
      "<class 'mediapipe.python.solution_base.SolutionOutputs'>\n",
      "<class 'mediapipe.python.solution_base.SolutionOutputs'>\n",
      "<class 'mediapipe.python.solution_base.SolutionOutputs'>\n",
      "<class 'mediapipe.python.solution_base.SolutionOutputs'>\n",
      "<class 'mediapipe.python.solution_base.SolutionOutputs'>\n",
      "<class 'mediapipe.python.solution_base.SolutionOutputs'>\n",
      "<class 'mediapipe.python.solution_base.SolutionOutputs'>\n",
      "<class 'mediapipe.python.solution_base.SolutionOutputs'>\n",
      "<class 'mediapipe.python.solution_base.SolutionOutputs'>\n",
      "<class 'mediapipe.python.solution_base.SolutionOutputs'>\n",
      "<class 'mediapipe.python.solution_base.SolutionOutputs'>\n",
      "<class 'mediapipe.python.solution_base.SolutionOutputs'>\n",
      "<class 'mediapipe.python.solution_base.SolutionOutputs'>\n",
      "<class 'mediapipe.python.solution_base.SolutionOutputs'>\n",
      "<class 'mediapipe.python.solution_base.SolutionOutputs'>\n",
      "<class 'mediapipe.python.solution_base.SolutionOutputs'>\n",
      "<class 'mediapipe.python.solution_base.SolutionOutputs'>\n",
      "<class 'mediapipe.python.solution_base.SolutionOutputs'>\n",
      "<class 'mediapipe.python.solution_base.SolutionOutputs'>\n",
      "<class 'mediapipe.python.solution_base.SolutionOutputs'>\n",
      "<class 'mediapipe.python.solution_base.SolutionOutputs'>\n",
      "<class 'mediapipe.python.solution_base.SolutionOutputs'>\n",
      "<class 'mediapipe.python.solution_base.SolutionOutputs'>\n",
      "<class 'mediapipe.python.solution_base.SolutionOutputs'>\n",
      "<class 'mediapipe.python.solution_base.SolutionOutputs'>\n",
      "<class 'mediapipe.python.solution_base.SolutionOutputs'>\n",
      "<class 'mediapipe.python.solution_base.SolutionOutputs'>\n",
      "<class 'mediapipe.python.solution_base.SolutionOutputs'>\n",
      "<class 'mediapipe.python.solution_base.SolutionOutputs'>\n",
      "<class 'mediapipe.python.solution_base.SolutionOutputs'>\n",
      "<class 'mediapipe.python.solution_base.SolutionOutputs'>\n",
      "<class 'mediapipe.python.solution_base.SolutionOutputs'>\n",
      "<class 'mediapipe.python.solution_base.SolutionOutputs'>\n",
      "<class 'mediapipe.python.solution_base.SolutionOutputs'>\n",
      "<class 'mediapipe.python.solution_base.SolutionOutputs'>\n",
      "<class 'mediapipe.python.solution_base.SolutionOutputs'>\n",
      "<class 'mediapipe.python.solution_base.SolutionOutputs'>\n",
      "<class 'mediapipe.python.solution_base.SolutionOutputs'>\n",
      "thanks\n"
     ]
    },
    {
     "ename": "IndexError",
     "evalue": "list index out of range",
     "output_type": "error",
     "traceback": [
      "\u001b[1;31m---------------------------------------------------------------------------\u001b[0m",
      "\u001b[1;31mIndexError\u001b[0m                                Traceback (most recent call last)",
      "\u001b[1;32m~\\AppData\\Local\\Temp/ipykernel_8900/726304024.py\u001b[0m in \u001b[0;36m<module>\u001b[1;34m\u001b[0m\n\u001b[0;32m     44\u001b[0m \u001b[1;33m\u001b[0m\u001b[0m\n\u001b[0;32m     45\u001b[0m             \u001b[1;31m# Viz probabilities\u001b[0m\u001b[1;33m\u001b[0m\u001b[1;33m\u001b[0m\u001b[0m\n\u001b[1;32m---> 46\u001b[1;33m             \u001b[0mimage\u001b[0m \u001b[1;33m=\u001b[0m \u001b[0mprob_viz\u001b[0m\u001b[1;33m(\u001b[0m\u001b[0mres\u001b[0m\u001b[1;33m,\u001b[0m \u001b[0mactions\u001b[0m\u001b[1;33m,\u001b[0m \u001b[0mimage\u001b[0m\u001b[1;33m,\u001b[0m \u001b[0mcolors\u001b[0m\u001b[1;33m)\u001b[0m\u001b[1;33m\u001b[0m\u001b[1;33m\u001b[0m\u001b[0m\n\u001b[0m\u001b[0;32m     47\u001b[0m \u001b[1;33m\u001b[0m\u001b[0m\n\u001b[0;32m     48\u001b[0m         \u001b[0mcv2\u001b[0m\u001b[1;33m.\u001b[0m\u001b[0mrectangle\u001b[0m\u001b[1;33m(\u001b[0m\u001b[0mimage\u001b[0m\u001b[1;33m,\u001b[0m \u001b[1;33m(\u001b[0m\u001b[1;36m0\u001b[0m\u001b[1;33m,\u001b[0m\u001b[1;36m0\u001b[0m\u001b[1;33m)\u001b[0m\u001b[1;33m,\u001b[0m \u001b[1;33m(\u001b[0m\u001b[1;36m640\u001b[0m\u001b[1;33m,\u001b[0m \u001b[1;36m40\u001b[0m\u001b[1;33m)\u001b[0m\u001b[1;33m,\u001b[0m \u001b[1;33m(\u001b[0m\u001b[1;36m245\u001b[0m\u001b[1;33m,\u001b[0m \u001b[1;36m117\u001b[0m\u001b[1;33m,\u001b[0m \u001b[1;36m16\u001b[0m\u001b[1;33m)\u001b[0m\u001b[1;33m,\u001b[0m \u001b[1;33m-\u001b[0m\u001b[1;36m1\u001b[0m\u001b[1;33m)\u001b[0m\u001b[1;33m\u001b[0m\u001b[1;33m\u001b[0m\u001b[0m\n",
      "\u001b[1;32m~\\AppData\\Local\\Temp/ipykernel_8900/2568779431.py\u001b[0m in \u001b[0;36mprob_viz\u001b[1;34m(res, actions, input_frame, colors)\u001b[0m\n\u001b[0;32m      3\u001b[0m     \u001b[0moutput_frame\u001b[0m \u001b[1;33m=\u001b[0m \u001b[0minput_frame\u001b[0m\u001b[1;33m.\u001b[0m\u001b[0mcopy\u001b[0m\u001b[1;33m(\u001b[0m\u001b[1;33m)\u001b[0m\u001b[1;33m\u001b[0m\u001b[1;33m\u001b[0m\u001b[0m\n\u001b[0;32m      4\u001b[0m     \u001b[1;32mfor\u001b[0m \u001b[0mnum\u001b[0m\u001b[1;33m,\u001b[0m \u001b[0mprob\u001b[0m \u001b[1;32min\u001b[0m \u001b[0menumerate\u001b[0m\u001b[1;33m(\u001b[0m\u001b[0mres\u001b[0m\u001b[1;33m)\u001b[0m\u001b[1;33m:\u001b[0m\u001b[1;33m\u001b[0m\u001b[1;33m\u001b[0m\u001b[0m\n\u001b[1;32m----> 5\u001b[1;33m         \u001b[0mcv2\u001b[0m\u001b[1;33m.\u001b[0m\u001b[0mrectangle\u001b[0m\u001b[1;33m(\u001b[0m\u001b[0moutput_frame\u001b[0m\u001b[1;33m,\u001b[0m \u001b[1;33m(\u001b[0m\u001b[1;36m0\u001b[0m\u001b[1;33m,\u001b[0m\u001b[1;36m60\u001b[0m\u001b[1;33m+\u001b[0m\u001b[0mnum\u001b[0m\u001b[1;33m*\u001b[0m\u001b[1;36m40\u001b[0m\u001b[1;33m)\u001b[0m\u001b[1;33m,\u001b[0m \u001b[1;33m(\u001b[0m\u001b[0mint\u001b[0m\u001b[1;33m(\u001b[0m\u001b[0mprob\u001b[0m\u001b[1;33m*\u001b[0m\u001b[1;36m100\u001b[0m\u001b[1;33m)\u001b[0m\u001b[1;33m,\u001b[0m \u001b[1;36m90\u001b[0m\u001b[1;33m+\u001b[0m\u001b[0mnum\u001b[0m\u001b[1;33m*\u001b[0m\u001b[1;36m40\u001b[0m\u001b[1;33m)\u001b[0m\u001b[1;33m,\u001b[0m \u001b[0mcolors\u001b[0m\u001b[1;33m[\u001b[0m\u001b[0mnum\u001b[0m\u001b[1;33m]\u001b[0m\u001b[1;33m,\u001b[0m \u001b[1;33m-\u001b[0m\u001b[1;36m1\u001b[0m\u001b[1;33m)\u001b[0m\u001b[1;33m\u001b[0m\u001b[1;33m\u001b[0m\u001b[0m\n\u001b[0m\u001b[0;32m      6\u001b[0m         \u001b[0mcv2\u001b[0m\u001b[1;33m.\u001b[0m\u001b[0mputText\u001b[0m\u001b[1;33m(\u001b[0m\u001b[0moutput_frame\u001b[0m\u001b[1;33m,\u001b[0m \u001b[0mactions\u001b[0m\u001b[1;33m[\u001b[0m\u001b[0mnum\u001b[0m\u001b[1;33m]\u001b[0m\u001b[1;33m,\u001b[0m \u001b[1;33m(\u001b[0m\u001b[1;36m0\u001b[0m\u001b[1;33m,\u001b[0m \u001b[1;36m85\u001b[0m\u001b[1;33m+\u001b[0m\u001b[0mnum\u001b[0m\u001b[1;33m*\u001b[0m\u001b[1;36m40\u001b[0m\u001b[1;33m)\u001b[0m\u001b[1;33m,\u001b[0m \u001b[0mcv2\u001b[0m\u001b[1;33m.\u001b[0m\u001b[0mFONT_HERSHEY_SIMPLEX\u001b[0m\u001b[1;33m,\u001b[0m \u001b[1;36m1\u001b[0m\u001b[1;33m,\u001b[0m \u001b[1;33m(\u001b[0m\u001b[1;36m255\u001b[0m\u001b[1;33m,\u001b[0m\u001b[1;36m255\u001b[0m\u001b[1;33m,\u001b[0m\u001b[1;36m255\u001b[0m\u001b[1;33m)\u001b[0m\u001b[1;33m,\u001b[0m \u001b[1;36m2\u001b[0m\u001b[1;33m,\u001b[0m \u001b[0mcv2\u001b[0m\u001b[1;33m.\u001b[0m\u001b[0mLINE_AA\u001b[0m\u001b[1;33m)\u001b[0m\u001b[1;33m\u001b[0m\u001b[1;33m\u001b[0m\u001b[0m\n\u001b[0;32m      7\u001b[0m \u001b[1;33m\u001b[0m\u001b[0m\n",
      "\u001b[1;31mIndexError\u001b[0m: list index out of range"
     ]
    }
   ],
   "source": [
    "# 1. New detection variables\n",
    "sequence = []\n",
    "sentence = []\n",
    "predictions = []\n",
    "threshold = 0.5\n",
    "\n",
    "cap = cv2.VideoCapture(0)\n",
    "# Set mediapipe model \n",
    "with mp_holistic.Holistic(min_detection_confidence=0.5, min_tracking_confidence=0.5) as holistic:\n",
    "    while cap.isOpened():\n",
    "        # Read feed\n",
    "        ret, frame = cap.read()\n",
    "\n",
    "        # Make detections\n",
    "        image, results = mediapipe_detection(frame, holistic)\n",
    "        print(results)\n",
    "        \n",
    "        # Draw landmarks\n",
    "        draw_styled_landmarks(image, results)\n",
    "        \n",
    "        # 2. Prediction logic\n",
    "        keypoints = extract_keypoints(results)\n",
    "        sequence.append(keypoints)\n",
    "        sequence = sequence[-max_frames:]\n",
    "        \n",
    "        if len(sequence) == max_frames:\n",
    "            res = model.predict(np.expand_dims(sequence, axis=0))[0]\n",
    "            print(actions[np.argmax(res)])\n",
    "            predictions.append(np.argmax(res))\n",
    "            \n",
    "            \n",
    "        #3. Viz logic\n",
    "            if np.unique(predictions[-10:])[0]==np.argmax(res): \n",
    "                if res[np.argmax(res)] > threshold: \n",
    "                    \n",
    "                    if len(sentence) > 0: \n",
    "                        if actions[np.argmax(res)] != sentence[-1]:\n",
    "                            sentence.append(actions[np.argmax(res)])\n",
    "                    else:\n",
    "                        sentence.append(actions[np.argmax(res)])\n",
    "\n",
    "            if len(sentence) > 5: \n",
    "                sentence = sentence[-5:]\n",
    "\n",
    "            # Viz probabilities\n",
    "            image = prob_viz(res, actions, image, colors)\n",
    "            \n",
    "        cv2.rectangle(image, (0,0), (640, 40), (245, 117, 16), -1)\n",
    "        cv2.putText(image, ' '.join(sentence), (3,30), \n",
    "                       cv2.FONT_HERSHEY_SIMPLEX, 1, (255, 255, 255), 2, cv2.LINE_AA)\n",
    "        \n",
    "        # Show to screen\n",
    "        cv2.imshow('OpenCV Feed', image)\n",
    "\n",
    "        # Break gracefully\n",
    "        if cv2.waitKey(10) & 0xFF == ord('q'):\n",
    "            break\n",
    "    cap.release()\n",
    "    cv2.destroyAllWindows()"
   ]
  },
  {
   "cell_type": "code",
   "execution_count": null,
   "metadata": {},
   "outputs": [],
   "source": []
  }
 ],
 "metadata": {
  "interpreter": {
   "hash": "5b2420cb912e7326c84290fb99c18229aa237bc4d003b3d47db3b129fb02d30f"
  },
  "kernelspec": {
   "display_name": "Python 3.9.7 64-bit ('venv': venv)",
   "language": "python",
   "name": "python3"
  },
  "language_info": {
   "codemirror_mode": {
    "name": "ipython",
    "version": 3
   },
   "file_extension": ".py",
   "mimetype": "text/x-python",
   "name": "python",
   "nbconvert_exporter": "python",
   "pygments_lexer": "ipython3",
   "version": "3.9.7"
  },
  "orig_nbformat": 4
 },
 "nbformat": 4,
 "nbformat_minor": 2
}
