{
 "cells": [
  {
   "cell_type": "code",
   "execution_count": 1,
   "metadata": {},
   "outputs": [],
   "source": [
    "import tensorflow as tf\n",
    "import os"
   ]
  },
  {
   "cell_type": "code",
   "execution_count": 20,
   "metadata": {},
   "outputs": [
    {
     "name": "stdout",
     "output_type": "stream",
     "text": [
      "[0, 132, 1536, 1599, 1662]\n"
     ]
    }
   ],
   "source": [
    "from functools import reduce\n",
    "from itertools import accumulate\n",
    "\n",
    "landmark_lens = (\n",
    "    (33, 4),\n",
    "    (468, 3),\n",
    "    (21, 3),\n",
    "    (21, 3)\n",
    ")\n",
    "landmark_locs = list(accumulate(landmark_lens, lambda a, b: a + b[0]*b[1], initial=0))\n",
    "landmarks_len = reduce(lambda r, loc: r + loc[0] * loc[1], landmark_lens, 0)\n",
    "print(landmark_locs)"
   ]
  },
  {
   "cell_type": "code",
   "execution_count": 21,
   "metadata": {},
   "outputs": [],
   "source": [
    "labels = [label for label in os.listdir('tracks_binary') if os.path.isdir(f'tracks_binary/{label}')]\n",
    "NUM_CLASSES = len(labels)\n",
    "\n",
    "labels_tensor = tf.constant(labels)\n",
    "ids_tensor = tf.constant(range(len(labels)))\n",
    "\n",
    "ids_from_labels = tf.lookup.StaticHashTable(\n",
    "    tf.lookup.KeyValueTensorInitializer(\n",
    "        labels_tensor,\n",
    "        ids_tensor\n",
    "    ),\n",
    "    default_value=-1\n",
    ")\n",
    "\n",
    "labels_from_ids = tf.lookup.StaticHashTable(\n",
    "    tf.lookup.KeyValueTensorInitializer(\n",
    "        ids_tensor,\n",
    "        labels_tensor\n",
    "    ),\n",
    "    default_value=\"\"\n",
    ")\n",
    "\n",
    "def to_categorical(label):\n",
    "    return tf.one_hot(\n",
    "        ids_from_labels.lookup(label),\n",
    "        depth=NUM_CLASSES\n",
    "    )"
   ]
  },
  {
   "cell_type": "code",
   "execution_count": 22,
   "metadata": {},
   "outputs": [],
   "source": [
    "def process_binary(file_path):\n",
    "    label = tf.strings.split(file_path, os.sep)[-2]\n",
    "\n",
    "    raw = tf.io.read_file(file_path)\n",
    "    data = tf.io.decode_raw(raw, tf.float32)\n",
    "    data = tf.reshape(data, [-1, landmarks_len])\n",
    "\n",
    "    pose = tf.reshape(data[:, 0:132], [-1, 33, 4])\n",
    "    face = tf.reshape(data[:, 132:1536], [-1, 468, 3])\n",
    "    lh = tf.reshape(data[:, 1536:1599], [-1, 21, 3])\n",
    "    rh = tf.reshape(data[:, 1599:1662], [-1, 21, 3])\n",
    "\n",
    "    return (pose, face, lh, rh), to_categorical(label)"
   ]
  },
  {
   "cell_type": "code",
   "execution_count": 23,
   "metadata": {},
   "outputs": [],
   "source": [
    "FRAMES = 64\n",
    "\n",
    "def flatten(x):\n",
    "    pose = tf.reshape(x[0], shape=[-1, 132])\n",
    "    face = tf.reshape(x[1], shape=[-1, 1404])\n",
    "    lh = tf.reshape(x[2], shape=[-1, 63])\n",
    "    rh = tf.reshape(x[3], shape=[-1, 63])\n",
    "\n",
    "    return tf.concat([pose, face, lh, rh], axis=1)\n",
    "\n",
    "\n",
    "def random_window(x):\n",
    "    def pad(x):\n",
    "        missing = FRAMES - size\n",
    "        start_pad = tf.math.ceil(missing / 2)\n",
    "        end_pad = tf.math.floor(missing / 2)\n",
    "        return tf.concat([\n",
    "            tf.tile([x[0]], [start_pad, 1]),\n",
    "            x,\n",
    "            tf.tile([x[-1]], [end_pad, 1])\n",
    "        ], axis=0)\n",
    "\n",
    "    def random_slice(x):\n",
    "        i = tf.random.uniform(shape=(), maxval=size+1-FRAMES, dtype=tf.int32)\n",
    "        return x[i: i+FRAMES]\n",
    "\n",
    "    size = tf.shape(x)[0]\n",
    "    return tf.cond(\n",
    "        size < FRAMES,\n",
    "        lambda: pad(x),\n",
    "        lambda: random_slice(x)\n",
    "    )\n",
    "    \n",
    "\n",
    "def prepare(ds):\n",
    "    ds = ds.map(lambda x, y: (flatten(x), y), num_parallel_calls=tf.data.AUTOTUNE)\n",
    "\n",
    "    ds = ds.map(lambda x, y: (random_window(x), y), num_parallel_calls=tf.data.AUTOTUNE)\n",
    "\n",
    "    ds = ds.shuffle(1000)\n",
    "\n",
    "    ds = ds.batch(32)\n",
    "\n",
    "    return ds.prefetch(buffer_size=tf.data.AUTOTUNE)"
   ]
  },
  {
   "cell_type": "code",
   "execution_count": 24,
   "metadata": {},
   "outputs": [],
   "source": [
    "ds = tf.data.Dataset.list_files('tracks_binary/*/*')\n",
    "ds = ds.map(process_binary)\n",
    "\n",
    "ds = prepare(ds)"
   ]
  },
  {
   "cell_type": "code",
   "execution_count": 25,
   "metadata": {},
   "outputs": [],
   "source": [
    "from tensorflow.keras.models import Sequential\n",
    "from tensorflow.keras.layers import LSTM, Dense, Bidirectional\n",
    "from tensorflow.keras.callbacks import TensorBoard, EarlyStopping, ReduceLROnPlateau\n",
    "from tensorflow import keras"
   ]
  },
  {
   "cell_type": "code",
   "execution_count": 26,
   "metadata": {},
   "outputs": [
    {
     "name": "stderr",
     "output_type": "stream",
     "text": [
      "2021-12-14 21:58:32.278818: I tensorflow/core/profiler/lib/profiler_session.cc:131] Profiler session initializing.\n",
      "2021-12-14 21:58:32.278829: I tensorflow/core/profiler/lib/profiler_session.cc:146] Profiler session started.\n",
      "2021-12-14 21:58:32.279127: I tensorflow/core/profiler/lib/profiler_session.cc:164] Profiler session tear down.\n"
     ]
    }
   ],
   "source": [
    "TRIAL = 10\n",
    "log_dir = os.path.join('Logs/{}'.format(TRIAL))\n",
    "tb_callback = TensorBoard(log_dir=log_dir)\n",
    "es_callback = EarlyStopping(monitor='val_loss', patience=20)\n",
    "lr_callback = ReduceLROnPlateau(monitor='val_loss', patience=25)"
   ]
  },
  {
   "cell_type": "code",
   "execution_count": 27,
   "metadata": {},
   "outputs": [],
   "source": [
    "model = Sequential()\n",
    "model.add(Bidirectional(LSTM(64, return_sequences=True), input_shape=(FRAMES, 1662)))\n",
    "model.add(Dense(64, activation='relu'))\n",
    "model.add(Bidirectional(LSTM(64, return_sequences=True)))\n",
    "model.add(Dense(64, activation='relu'))\n",
    "model.add(Bidirectional(LSTM(64, return_sequences=False, dropout=0.2)))\n",
    "model.add(Dense(NUM_CLASSES, activation='softmax'))"
   ]
  },
  {
   "cell_type": "code",
   "execution_count": 28,
   "metadata": {},
   "outputs": [],
   "source": [
    "opt = keras.optimizers.Adam(learning_rate=1e-4)\n",
    "model.compile(optimizer=opt, loss='categorical_crossentropy', metrics=['accuracy'])"
   ]
  },
  {
   "cell_type": "code",
   "execution_count": 29,
   "metadata": {},
   "outputs": [
    {
     "name": "stdout",
     "output_type": "stream",
     "text": [
      "Model: \"sequential_2\"\n",
      "_________________________________________________________________\n",
      "Layer (type)                 Output Shape              Param #   \n",
      "=================================================================\n",
      "bidirectional_6 (Bidirection (None, 64, 128)           884224    \n",
      "_________________________________________________________________\n",
      "dense_6 (Dense)              (None, 64, 64)            8256      \n",
      "_________________________________________________________________\n",
      "bidirectional_7 (Bidirection (None, 64, 128)           66048     \n",
      "_________________________________________________________________\n",
      "dense_7 (Dense)              (None, 64, 64)            8256      \n",
      "_________________________________________________________________\n",
      "bidirectional_8 (Bidirection (None, 128)               66048     \n",
      "_________________________________________________________________\n",
      "dense_8 (Dense)              (None, 10)                1290      \n",
      "=================================================================\n",
      "Total params: 1,034,122\n",
      "Trainable params: 1,034,122\n",
      "Non-trainable params: 0\n",
      "_________________________________________________________________\n"
     ]
    }
   ],
   "source": [
    "model.summary()\n"
   ]
  },
  {
   "cell_type": "code",
   "execution_count": 30,
   "metadata": {},
   "outputs": [
    {
     "name": "stdout",
     "output_type": "stream",
     "text": [
      "Epoch 1/2000\n"
     ]
    },
    {
     "name": "stderr",
     "output_type": "stream",
     "text": [
      "2021-12-14 21:58:37.192270: I tensorflow/core/grappler/optimizers/custom_graph_optimizer_registry.cc:112] Plugin optimizer for device_type GPU is enabled.\n",
      "2021-12-14 21:58:37.729164: I tensorflow/core/grappler/optimizers/custom_graph_optimizer_registry.cc:112] Plugin optimizer for device_type GPU is enabled.\n",
      "2021-12-14 21:58:37.729206: I tensorflow/core/grappler/optimizers/custom_graph_optimizer_registry.cc:112] Plugin optimizer for device_type GPU is enabled.\n",
      "2021-12-14 21:58:37.953610: I tensorflow/core/grappler/optimizers/custom_graph_optimizer_registry.cc:112] Plugin optimizer for device_type GPU is enabled.\n",
      "2021-12-14 21:58:37.962615: I tensorflow/core/grappler/optimizers/custom_graph_optimizer_registry.cc:112] Plugin optimizer for device_type GPU is enabled.\n",
      "2021-12-14 21:58:38.112249: I tensorflow/core/grappler/optimizers/custom_graph_optimizer_registry.cc:112] Plugin optimizer for device_type GPU is enabled.\n",
      "2021-12-14 21:58:38.120876: I tensorflow/core/grappler/optimizers/custom_graph_optimizer_registry.cc:112] Plugin optimizer for device_type GPU is enabled.\n",
      "2021-12-14 21:58:38.279449: I tensorflow/core/grappler/optimizers/custom_graph_optimizer_registry.cc:112] Plugin optimizer for device_type GPU is enabled.\n",
      "2021-12-14 21:58:38.292836: I tensorflow/core/grappler/optimizers/custom_graph_optimizer_registry.cc:112] Plugin optimizer for device_type GPU is enabled.\n",
      "2021-12-14 21:58:38.611357: I tensorflow/core/grappler/optimizers/custom_graph_optimizer_registry.cc:112] Plugin optimizer for device_type GPU is enabled.\n",
      "2021-12-14 21:58:38.612376: I tensorflow/core/grappler/optimizers/custom_graph_optimizer_registry.cc:112] Plugin optimizer for device_type GPU is enabled.\n",
      "2021-12-14 21:58:38.924614: I tensorflow/core/grappler/optimizers/custom_graph_optimizer_registry.cc:112] Plugin optimizer for device_type GPU is enabled.\n",
      "2021-12-14 21:58:38.938998: I tensorflow/core/grappler/optimizers/custom_graph_optimizer_registry.cc:112] Plugin optimizer for device_type GPU is enabled.\n"
     ]
    },
    {
     "name": "stdout",
     "output_type": "stream",
     "text": [
      " 1/10 [==>...........................] - ETA: 34s - loss: 2.2833 - accuracy: 0.1250"
     ]
    },
    {
     "name": "stderr",
     "output_type": "stream",
     "text": [
      "2021-12-14 21:58:39.350593: I tensorflow/core/profiler/lib/profiler_session.cc:131] Profiler session initializing.\n",
      "2021-12-14 21:58:39.350605: I tensorflow/core/profiler/lib/profiler_session.cc:146] Profiler session started.\n"
     ]
    },
    {
     "name": "stdout",
     "output_type": "stream",
     "text": [
      " 2/10 [=====>........................] - ETA: 2s - loss: 2.2849 - accuracy: 0.1562 "
     ]
    },
    {
     "name": "stderr",
     "output_type": "stream",
     "text": [
      "2021-12-14 21:58:39.653904: I tensorflow/core/profiler/lib/profiler_session.cc:66] Profiler session collecting data.\n",
      "2021-12-14 21:58:39.654817: I tensorflow/core/profiler/lib/profiler_session.cc:164] Profiler session tear down.\n",
      "2021-12-14 21:58:39.656437: I tensorflow/core/profiler/rpc/client/save_profile.cc:136] Creating directory: Logs/10/train/plugins/profile/2021_12_14_21_58_39\n",
      "\n",
      "2021-12-14 21:58:39.657110: I tensorflow/core/profiler/rpc/client/save_profile.cc:142] Dumped gzipped tool data for trace.json.gz to Logs/10/train/plugins/profile/2021_12_14_21_58_39/Stevens-MacBook-Air.local.trace.json.gz\n",
      "2021-12-14 21:58:39.657853: I tensorflow/core/profiler/rpc/client/save_profile.cc:136] Creating directory: Logs/10/train/plugins/profile/2021_12_14_21_58_39\n",
      "\n",
      "2021-12-14 21:58:39.658028: I tensorflow/core/profiler/rpc/client/save_profile.cc:142] Dumped gzipped tool data for memory_profile.json.gz to Logs/10/train/plugins/profile/2021_12_14_21_58_39/Stevens-MacBook-Air.local.memory_profile.json.gz\n",
      "2021-12-14 21:58:39.658526: I tensorflow/core/profiler/rpc/client/capture_profile.cc:251] Creating directory: Logs/10/train/plugins/profile/2021_12_14_21_58_39\n",
      "Dumped tool data for xplane.pb to Logs/10/train/plugins/profile/2021_12_14_21_58_39/Stevens-MacBook-Air.local.xplane.pb\n",
      "Dumped tool data for overview_page.pb to Logs/10/train/plugins/profile/2021_12_14_21_58_39/Stevens-MacBook-Air.local.overview_page.pb\n",
      "Dumped tool data for input_pipeline.pb to Logs/10/train/plugins/profile/2021_12_14_21_58_39/Stevens-MacBook-Air.local.input_pipeline.pb\n",
      "Dumped tool data for tensorflow_stats.pb to Logs/10/train/plugins/profile/2021_12_14_21_58_39/Stevens-MacBook-Air.local.tensorflow_stats.pb\n",
      "Dumped tool data for kernel_stats.pb to Logs/10/train/plugins/profile/2021_12_14_21_58_39/Stevens-MacBook-Air.local.kernel_stats.pb\n",
      "\n"
     ]
    },
    {
     "name": "stdout",
     "output_type": "stream",
     "text": [
      "10/10 [==============================] - 7s 393ms/step - loss: 2.2915 - accuracy: 0.1254\n",
      "Epoch 2/2000\n",
      "10/10 [==============================] - 2s 202ms/step - loss: 2.2852 - accuracy: 0.1379\n",
      "Epoch 3/2000\n",
      "10/10 [==============================] - 2s 202ms/step - loss: 2.2781 - accuracy: 0.1034\n",
      "Epoch 4/2000\n",
      "10/10 [==============================] - 2s 202ms/step - loss: 2.2693 - accuracy: 0.1097\n",
      "Epoch 5/2000\n",
      "10/10 [==============================] - 2s 202ms/step - loss: 2.2586 - accuracy: 0.1254\n",
      "Epoch 6/2000\n",
      "10/10 [==============================] - 2s 200ms/step - loss: 2.2466 - accuracy: 0.1066\n",
      "Epoch 7/2000\n",
      "10/10 [==============================] - 2s 202ms/step - loss: 2.2347 - accuracy: 0.1191\n",
      "Epoch 8/2000\n",
      "10/10 [==============================] - 2s 203ms/step - loss: 2.2251 - accuracy: 0.1348\n",
      "Epoch 9/2000\n",
      "10/10 [==============================] - 2s 199ms/step - loss: 2.2198 - accuracy: 0.1254\n",
      "Epoch 10/2000\n",
      "10/10 [==============================] - 2s 202ms/step - loss: 2.2167 - accuracy: 0.1129\n",
      "Epoch 11/2000\n",
      "10/10 [==============================] - 2s 201ms/step - loss: 2.2107 - accuracy: 0.1317\n",
      "Epoch 12/2000\n",
      "10/10 [==============================] - 2s 201ms/step - loss: 2.2083 - accuracy: 0.1285\n",
      "Epoch 13/2000\n",
      "10/10 [==============================] - 2s 204ms/step - loss: 2.2057 - accuracy: 0.1348\n",
      "Epoch 14/2000\n",
      "10/10 [==============================] - 2s 203ms/step - loss: 2.2049 - accuracy: 0.1599\n",
      "Epoch 15/2000\n",
      "10/10 [==============================] - 2s 202ms/step - loss: 2.2056 - accuracy: 0.1505\n",
      "Epoch 16/2000\n",
      "10/10 [==============================] - 2s 200ms/step - loss: 2.2060 - accuracy: 0.1442\n",
      "Epoch 17/2000\n",
      "10/10 [==============================] - 2s 204ms/step - loss: 2.2046 - accuracy: 0.1348\n",
      "Epoch 18/2000\n",
      "10/10 [==============================] - 2s 201ms/step - loss: 2.2063 - accuracy: 0.1536\n",
      "Epoch 19/2000\n",
      "10/10 [==============================] - 2s 204ms/step - loss: 2.2095 - accuracy: 0.1317\n",
      "Epoch 20/2000\n",
      "10/10 [==============================] - 2s 201ms/step - loss: 2.2050 - accuracy: 0.1505\n",
      "Epoch 21/2000\n",
      "10/10 [==============================] - 2s 217ms/step - loss: 2.2056 - accuracy: 0.1473\n",
      "Epoch 22/2000\n",
      "10/10 [==============================] - 2s 215ms/step - loss: 2.2038 - accuracy: 0.1505\n",
      "Epoch 23/2000\n",
      "10/10 [==============================] - 2s 206ms/step - loss: 2.2080 - accuracy: 0.1285\n",
      "Epoch 24/2000\n",
      "10/10 [==============================] - 2s 207ms/step - loss: 2.2126 - accuracy: 0.1505\n",
      "Epoch 25/2000\n",
      "10/10 [==============================] - 2s 207ms/step - loss: 2.2084 - accuracy: 0.1379\n",
      "Epoch 26/2000\n",
      "10/10 [==============================] - 2s 209ms/step - loss: 2.2048 - accuracy: 0.1411\n",
      "Epoch 27/2000\n",
      "10/10 [==============================] - 2s 204ms/step - loss: 2.2038 - accuracy: 0.1348\n",
      "Epoch 28/2000\n",
      "10/10 [==============================] - 2s 202ms/step - loss: 2.2060 - accuracy: 0.1160\n",
      "Epoch 29/2000\n",
      "10/10 [==============================] - 2s 212ms/step - loss: 2.2083 - accuracy: 0.1473\n",
      "Epoch 30/2000\n",
      "10/10 [==============================] - 2s 208ms/step - loss: 2.2072 - accuracy: 0.1348\n",
      "Epoch 31/2000\n",
      "10/10 [==============================] - 2s 208ms/step - loss: 2.2084 - accuracy: 0.1223\n",
      "Epoch 32/2000\n",
      "10/10 [==============================] - 2s 209ms/step - loss: 2.2104 - accuracy: 0.1473\n",
      "Epoch 33/2000\n",
      "10/10 [==============================] - 2s 207ms/step - loss: 2.2008 - accuracy: 0.1850\n",
      "Epoch 34/2000\n",
      "10/10 [==============================] - 2s 210ms/step - loss: 2.2035 - accuracy: 0.1505\n",
      "Epoch 35/2000\n",
      "10/10 [==============================] - 2s 212ms/step - loss: 2.2019 - accuracy: 0.1442\n",
      "Epoch 36/2000\n",
      "10/10 [==============================] - 2s 204ms/step - loss: 2.2088 - accuracy: 0.1473\n",
      "Epoch 37/2000\n",
      "10/10 [==============================] - 2s 204ms/step - loss: 2.2070 - accuracy: 0.1317\n",
      "Epoch 38/2000\n",
      "10/10 [==============================] - 2s 205ms/step - loss: 2.2019 - accuracy: 0.1379\n",
      "Epoch 39/2000\n",
      "10/10 [==============================] - 2s 205ms/step - loss: 2.2053 - accuracy: 0.1536\n",
      "Epoch 40/2000\n",
      " 4/10 [===========>..................] - ETA: 1s - loss: 2.2427 - accuracy: 0.0859"
     ]
    },
    {
     "ename": "KeyboardInterrupt",
     "evalue": "",
     "output_type": "error",
     "traceback": [
      "\u001b[0;31m---------------------------------------------------------------------------\u001b[0m",
      "\u001b[0;31mKeyboardInterrupt\u001b[0m                         Traceback (most recent call last)",
      "\u001b[0;32m/var/folders/39/jjvdv6sj6cd1j6py1b34smd80000gn/T/ipykernel_28374/3593132404.py\u001b[0m in \u001b[0;36m<module>\u001b[0;34m\u001b[0m\n\u001b[0;32m----> 1\u001b[0;31m \u001b[0mhistory\u001b[0m \u001b[0;34m=\u001b[0m \u001b[0mmodel\u001b[0m\u001b[0;34m.\u001b[0m\u001b[0mfit\u001b[0m\u001b[0;34m(\u001b[0m\u001b[0mds\u001b[0m\u001b[0;34m,\u001b[0m \u001b[0mepochs\u001b[0m\u001b[0;34m=\u001b[0m\u001b[0;36m2000\u001b[0m\u001b[0;34m,\u001b[0m \u001b[0mcallbacks\u001b[0m\u001b[0;34m=\u001b[0m\u001b[0;34m[\u001b[0m\u001b[0mtb_callback\u001b[0m\u001b[0;34m]\u001b[0m\u001b[0;34m)\u001b[0m\u001b[0;34m\u001b[0m\u001b[0;34m\u001b[0m\u001b[0m\n\u001b[0m",
      "\u001b[0;32m/opt/homebrew/Caskroom/miniforge/base/envs/tf/lib/python3.9/site-packages/keras/engine/training.py\u001b[0m in \u001b[0;36mfit\u001b[0;34m(self, x, y, batch_size, epochs, verbose, callbacks, validation_split, validation_data, shuffle, class_weight, sample_weight, initial_epoch, steps_per_epoch, validation_steps, validation_batch_size, validation_freq, max_queue_size, workers, use_multiprocessing)\u001b[0m\n\u001b[1;32m   1182\u001b[0m                 _r=1):\n\u001b[1;32m   1183\u001b[0m               \u001b[0mcallbacks\u001b[0m\u001b[0;34m.\u001b[0m\u001b[0mon_train_batch_begin\u001b[0m\u001b[0;34m(\u001b[0m\u001b[0mstep\u001b[0m\u001b[0;34m)\u001b[0m\u001b[0;34m\u001b[0m\u001b[0;34m\u001b[0m\u001b[0m\n\u001b[0;32m-> 1184\u001b[0;31m               \u001b[0mtmp_logs\u001b[0m \u001b[0;34m=\u001b[0m \u001b[0mself\u001b[0m\u001b[0;34m.\u001b[0m\u001b[0mtrain_function\u001b[0m\u001b[0;34m(\u001b[0m\u001b[0miterator\u001b[0m\u001b[0;34m)\u001b[0m\u001b[0;34m\u001b[0m\u001b[0;34m\u001b[0m\u001b[0m\n\u001b[0m\u001b[1;32m   1185\u001b[0m               \u001b[0;32mif\u001b[0m \u001b[0mdata_handler\u001b[0m\u001b[0;34m.\u001b[0m\u001b[0mshould_sync\u001b[0m\u001b[0;34m:\u001b[0m\u001b[0;34m\u001b[0m\u001b[0;34m\u001b[0m\u001b[0m\n\u001b[1;32m   1186\u001b[0m                 \u001b[0mcontext\u001b[0m\u001b[0;34m.\u001b[0m\u001b[0masync_wait\u001b[0m\u001b[0;34m(\u001b[0m\u001b[0;34m)\u001b[0m\u001b[0;34m\u001b[0m\u001b[0;34m\u001b[0m\u001b[0m\n",
      "\u001b[0;32m/opt/homebrew/Caskroom/miniforge/base/envs/tf/lib/python3.9/site-packages/tensorflow/python/eager/def_function.py\u001b[0m in \u001b[0;36m__call__\u001b[0;34m(self, *args, **kwds)\u001b[0m\n\u001b[1;32m    883\u001b[0m \u001b[0;34m\u001b[0m\u001b[0m\n\u001b[1;32m    884\u001b[0m       \u001b[0;32mwith\u001b[0m \u001b[0mOptionalXlaContext\u001b[0m\u001b[0;34m(\u001b[0m\u001b[0mself\u001b[0m\u001b[0;34m.\u001b[0m\u001b[0m_jit_compile\u001b[0m\u001b[0;34m)\u001b[0m\u001b[0;34m:\u001b[0m\u001b[0;34m\u001b[0m\u001b[0;34m\u001b[0m\u001b[0m\n\u001b[0;32m--> 885\u001b[0;31m         \u001b[0mresult\u001b[0m \u001b[0;34m=\u001b[0m \u001b[0mself\u001b[0m\u001b[0;34m.\u001b[0m\u001b[0m_call\u001b[0m\u001b[0;34m(\u001b[0m\u001b[0;34m*\u001b[0m\u001b[0margs\u001b[0m\u001b[0;34m,\u001b[0m \u001b[0;34m**\u001b[0m\u001b[0mkwds\u001b[0m\u001b[0;34m)\u001b[0m\u001b[0;34m\u001b[0m\u001b[0;34m\u001b[0m\u001b[0m\n\u001b[0m\u001b[1;32m    886\u001b[0m \u001b[0;34m\u001b[0m\u001b[0m\n\u001b[1;32m    887\u001b[0m       \u001b[0mnew_tracing_count\u001b[0m \u001b[0;34m=\u001b[0m \u001b[0mself\u001b[0m\u001b[0;34m.\u001b[0m\u001b[0mexperimental_get_tracing_count\u001b[0m\u001b[0;34m(\u001b[0m\u001b[0;34m)\u001b[0m\u001b[0;34m\u001b[0m\u001b[0;34m\u001b[0m\u001b[0m\n",
      "\u001b[0;32m/opt/homebrew/Caskroom/miniforge/base/envs/tf/lib/python3.9/site-packages/tensorflow/python/eager/def_function.py\u001b[0m in \u001b[0;36m_call\u001b[0;34m(self, *args, **kwds)\u001b[0m\n\u001b[1;32m    915\u001b[0m       \u001b[0;31m# In this case we have created variables on the first call, so we run the\u001b[0m\u001b[0;34m\u001b[0m\u001b[0;34m\u001b[0m\u001b[0m\n\u001b[1;32m    916\u001b[0m       \u001b[0;31m# defunned version which is guaranteed to never create variables.\u001b[0m\u001b[0;34m\u001b[0m\u001b[0;34m\u001b[0m\u001b[0m\n\u001b[0;32m--> 917\u001b[0;31m       \u001b[0;32mreturn\u001b[0m \u001b[0mself\u001b[0m\u001b[0;34m.\u001b[0m\u001b[0m_stateless_fn\u001b[0m\u001b[0;34m(\u001b[0m\u001b[0;34m*\u001b[0m\u001b[0margs\u001b[0m\u001b[0;34m,\u001b[0m \u001b[0;34m**\u001b[0m\u001b[0mkwds\u001b[0m\u001b[0;34m)\u001b[0m  \u001b[0;31m# pylint: disable=not-callable\u001b[0m\u001b[0;34m\u001b[0m\u001b[0;34m\u001b[0m\u001b[0m\n\u001b[0m\u001b[1;32m    918\u001b[0m     \u001b[0;32melif\u001b[0m \u001b[0mself\u001b[0m\u001b[0;34m.\u001b[0m\u001b[0m_stateful_fn\u001b[0m \u001b[0;32mis\u001b[0m \u001b[0;32mnot\u001b[0m \u001b[0;32mNone\u001b[0m\u001b[0;34m:\u001b[0m\u001b[0;34m\u001b[0m\u001b[0;34m\u001b[0m\u001b[0m\n\u001b[1;32m    919\u001b[0m       \u001b[0;31m# Release the lock early so that multiple threads can perform the call\u001b[0m\u001b[0;34m\u001b[0m\u001b[0;34m\u001b[0m\u001b[0m\n",
      "\u001b[0;32m/opt/homebrew/Caskroom/miniforge/base/envs/tf/lib/python3.9/site-packages/tensorflow/python/eager/function.py\u001b[0m in \u001b[0;36m__call__\u001b[0;34m(self, *args, **kwargs)\u001b[0m\n\u001b[1;32m   3037\u001b[0m       (graph_function,\n\u001b[1;32m   3038\u001b[0m        filtered_flat_args) = self._maybe_define_function(args, kwargs)\n\u001b[0;32m-> 3039\u001b[0;31m     return graph_function._call_flat(\n\u001b[0m\u001b[1;32m   3040\u001b[0m         filtered_flat_args, captured_inputs=graph_function.captured_inputs)  # pylint: disable=protected-access\n\u001b[1;32m   3041\u001b[0m \u001b[0;34m\u001b[0m\u001b[0m\n",
      "\u001b[0;32m/opt/homebrew/Caskroom/miniforge/base/envs/tf/lib/python3.9/site-packages/tensorflow/python/eager/function.py\u001b[0m in \u001b[0;36m_call_flat\u001b[0;34m(self, args, captured_inputs, cancellation_manager)\u001b[0m\n\u001b[1;32m   1961\u001b[0m         and executing_eagerly):\n\u001b[1;32m   1962\u001b[0m       \u001b[0;31m# No tape is watching; skip to running the function.\u001b[0m\u001b[0;34m\u001b[0m\u001b[0;34m\u001b[0m\u001b[0m\n\u001b[0;32m-> 1963\u001b[0;31m       return self._build_call_outputs(self._inference_function.call(\n\u001b[0m\u001b[1;32m   1964\u001b[0m           ctx, args, cancellation_manager=cancellation_manager))\n\u001b[1;32m   1965\u001b[0m     forward_backward = self._select_forward_and_backward_functions(\n",
      "\u001b[0;32m/opt/homebrew/Caskroom/miniforge/base/envs/tf/lib/python3.9/site-packages/tensorflow/python/eager/function.py\u001b[0m in \u001b[0;36mcall\u001b[0;34m(self, ctx, args, cancellation_manager)\u001b[0m\n\u001b[1;32m    589\u001b[0m       \u001b[0;32mwith\u001b[0m \u001b[0m_InterpolateFunctionError\u001b[0m\u001b[0;34m(\u001b[0m\u001b[0mself\u001b[0m\u001b[0;34m)\u001b[0m\u001b[0;34m:\u001b[0m\u001b[0;34m\u001b[0m\u001b[0;34m\u001b[0m\u001b[0m\n\u001b[1;32m    590\u001b[0m         \u001b[0;32mif\u001b[0m \u001b[0mcancellation_manager\u001b[0m \u001b[0;32mis\u001b[0m \u001b[0;32mNone\u001b[0m\u001b[0;34m:\u001b[0m\u001b[0;34m\u001b[0m\u001b[0;34m\u001b[0m\u001b[0m\n\u001b[0;32m--> 591\u001b[0;31m           outputs = execute.execute(\n\u001b[0m\u001b[1;32m    592\u001b[0m               \u001b[0mstr\u001b[0m\u001b[0;34m(\u001b[0m\u001b[0mself\u001b[0m\u001b[0;34m.\u001b[0m\u001b[0msignature\u001b[0m\u001b[0;34m.\u001b[0m\u001b[0mname\u001b[0m\u001b[0;34m)\u001b[0m\u001b[0;34m,\u001b[0m\u001b[0;34m\u001b[0m\u001b[0;34m\u001b[0m\u001b[0m\n\u001b[1;32m    593\u001b[0m               \u001b[0mnum_outputs\u001b[0m\u001b[0;34m=\u001b[0m\u001b[0mself\u001b[0m\u001b[0;34m.\u001b[0m\u001b[0m_num_outputs\u001b[0m\u001b[0;34m,\u001b[0m\u001b[0;34m\u001b[0m\u001b[0;34m\u001b[0m\u001b[0m\n",
      "\u001b[0;32m/opt/homebrew/Caskroom/miniforge/base/envs/tf/lib/python3.9/site-packages/tensorflow/python/eager/execute.py\u001b[0m in \u001b[0;36mquick_execute\u001b[0;34m(op_name, num_outputs, inputs, attrs, ctx, name)\u001b[0m\n\u001b[1;32m     57\u001b[0m   \u001b[0;32mtry\u001b[0m\u001b[0;34m:\u001b[0m\u001b[0;34m\u001b[0m\u001b[0;34m\u001b[0m\u001b[0m\n\u001b[1;32m     58\u001b[0m     \u001b[0mctx\u001b[0m\u001b[0;34m.\u001b[0m\u001b[0mensure_initialized\u001b[0m\u001b[0;34m(\u001b[0m\u001b[0;34m)\u001b[0m\u001b[0;34m\u001b[0m\u001b[0;34m\u001b[0m\u001b[0m\n\u001b[0;32m---> 59\u001b[0;31m     tensors = pywrap_tfe.TFE_Py_Execute(ctx._handle, device_name, op_name,\n\u001b[0m\u001b[1;32m     60\u001b[0m                                         inputs, attrs, num_outputs)\n\u001b[1;32m     61\u001b[0m   \u001b[0;32mexcept\u001b[0m \u001b[0mcore\u001b[0m\u001b[0;34m.\u001b[0m\u001b[0m_NotOkStatusException\u001b[0m \u001b[0;32mas\u001b[0m \u001b[0me\u001b[0m\u001b[0;34m:\u001b[0m\u001b[0;34m\u001b[0m\u001b[0;34m\u001b[0m\u001b[0m\n",
      "\u001b[0;31mKeyboardInterrupt\u001b[0m: "
     ]
    }
   ],
   "source": [
    "history = model.fit(ds, epochs=2000, callbacks=[tb_callback])"
   ]
  },
  {
   "cell_type": "code",
   "execution_count": null,
   "metadata": {},
   "outputs": [],
   "source": []
  }
 ],
 "metadata": {
  "interpreter": {
   "hash": "52ee2977380704a66854748a73250e0671a9318bd5b3fd45a3df9f851ae61629"
  },
  "kernelspec": {
   "display_name": "Python 3.9.7 64-bit ('tf': conda)",
   "language": "python",
   "name": "python3"
  },
  "language_info": {
   "codemirror_mode": {
    "name": "ipython",
    "version": 3
   },
   "file_extension": ".py",
   "mimetype": "text/x-python",
   "name": "python",
   "nbconvert_exporter": "python",
   "pygments_lexer": "ipython3",
   "version": "3.9.7"
  },
  "orig_nbformat": 4
 },
 "nbformat": 4,
 "nbformat_minor": 2
}
