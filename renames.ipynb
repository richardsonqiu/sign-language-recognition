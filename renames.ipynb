{
 "cells": [
  {
   "cell_type": "code",
   "execution_count": 1,
   "metadata": {},
   "outputs": [],
   "source": [
    "import os"
   ]
  },
  {
   "cell_type": "code",
   "execution_count": 36,
   "metadata": {},
   "outputs": [
    {
     "data": {
      "text/plain": [
       "['10.mp4',\n",
       " '11.mp4',\n",
       " '12.mp4',\n",
       " '13.mp4',\n",
       " '14.mp4',\n",
       " '15.mp4',\n",
       " '16.mp4',\n",
       " '17.mp4',\n",
       " '18.mp4',\n",
       " '19.mp4',\n",
       " '20.mp4',\n",
       " '21.mp4',\n",
       " '22.mp4',\n",
       " '23.mp4',\n",
       " '24.mp4',\n",
       " '25.mp4',\n",
       " '26.mp4',\n",
       " '27.mp4',\n",
       " '28.mp4',\n",
       " '29.mp4',\n",
       " '30.mp4',\n",
       " '31.mp4',\n",
       " '32.mp4',\n",
       " '33.mp4',\n",
       " '34.mp4',\n",
       " '35.mp4',\n",
       " '36.mp4',\n",
       " '37.mp4',\n",
       " '38.mp4']"
      ]
     },
     "execution_count": 36,
     "metadata": {},
     "output_type": "execute_result"
    }
   ],
   "source": [
    "word = \"fine\"\n",
    "ls = os.listdir(os.path.join('videos', word, 'New folder'))\n",
    "ls"
   ]
  },
  {
   "cell_type": "code",
   "execution_count": 37,
   "metadata": {},
   "outputs": [],
   "source": [
    "for i, v in enumerate(ls): \n",
    "  dir = 'videos/' + word + '/New folder/'\n",
    "  old = dir + v\n",
    "  new = dir + str(i+1) + '.mp4'\n",
    "  os.rename(old, new)"
   ]
  },
  {
   "cell_type": "code",
   "execution_count": null,
   "metadata": {},
   "outputs": [],
   "source": []
  }
 ],
 "metadata": {
  "interpreter": {
   "hash": "5b2420cb912e7326c84290fb99c18229aa237bc4d003b3d47db3b129fb02d30f"
  },
  "kernelspec": {
   "display_name": "Python 3.9.7 64-bit ('venv': venv)",
   "language": "python",
   "name": "python3"
  },
  "language_info": {
   "codemirror_mode": {
    "name": "ipython",
    "version": 3
   },
   "file_extension": ".py",
   "mimetype": "text/x-python",
   "name": "python",
   "nbconvert_exporter": "python",
   "pygments_lexer": "ipython3",
   "version": "3.9.7"
  },
  "orig_nbformat": 4
 },
 "nbformat": 4,
 "nbformat_minor": 2
}
