{
 "cells": [
  {
   "cell_type": "code",
   "execution_count": 2,
   "metadata": {},
   "outputs": [
    {
     "name": "stdout",
     "output_type": "stream",
     "text": [
      "SDK version: 1.37.0\n"
     ]
    }
   ],
   "source": [
    "import azureml.core\n",
    "print('SDK version:', azureml.core.VERSION)"
   ]
  },
  {
   "cell_type": "code",
   "execution_count": 3,
   "metadata": {},
   "outputs": [
    {
     "data": {
      "text/plain": [
       "Workspace.create(name='SignRecognition', subscription_id='5aeeb535-21e1-4410-a3d0-539fa06445d7', resource_group='SignRecognition')"
      ]
     },
     "execution_count": 3,
     "metadata": {},
     "output_type": "execute_result"
    }
   ],
   "source": [
    "from azureml.core import Workspace\n",
    "\n",
    "ws = Workspace(subscription_id=\"5aeeb535-21e1-4410-a3d0-539fa06445d7\",\n",
    "               resource_group=\"SignRecognition\",\n",
    "               workspace_name=\"SignRecognition\")\n",
    "ws"
   ]
  },
  {
   "cell_type": "code",
   "execution_count": 4,
   "metadata": {},
   "outputs": [
    {
     "name": "stdout",
     "output_type": "stream",
     "text": [
      "Registering model glamorous-wave\n",
      "Name: glamorous-wave\n"
     ]
    }
   ],
   "source": [
    "from azureml.core import Model\n",
    "\n",
    "model = Model.register(workspace=ws,\n",
    "                       model_name='glamorous-wave',                  # Name of the registered model in your workspace.\n",
    "                       model_path='../deploy-model/gw-model/model/glamorous-wave.onnx',              # Local ONNX model to upload and register as a model.\n",
    "                       model_framework=Model.Framework.ONNX ,      # Framework used to create the model.\n",
    "                       model_framework_version='1.3',              # Version of ONNX used to create the model.\n",
    "                       description='Onnx Sign Recognition model')\n",
    "\n",
    "print('Name:', model.name)"
   ]
  },
  {
   "cell_type": "code",
   "execution_count": 5,
   "metadata": {},
   "outputs": [
    {
     "name": "stdout",
     "output_type": "stream",
     "text": [
      "Tips: You can try get_logs(): https://aka.ms/debugimage#dockerlog or local deployment: https://aka.ms/debugimage#debug-locally to debug if deployment takes longer than 10 minutes.\n",
      "Running\n",
      "2021-12-30 14:33:22+08:00 Creating Container Registry if not exists.\n",
      "2021-12-30 14:33:22+08:00 Registering the environment.\n",
      "2021-12-30 14:33:23+08:00 Use the existing image.\n",
      "2021-12-30 14:33:24+08:00 Submitting deployment to compute.\n",
      "2021-12-30 14:33:33+08:00 Checking the status of deployment onnx-sign-recognition-service..\n",
      "2021-12-30 14:34:36+08:00 Checking the status of inference endpoint onnx-sign-recognition-service.\n",
      "Succeeded\n",
      "ACI service creation operation finished, operation \"Succeeded\"\n"
     ]
    }
   ],
   "source": [
    "from azureml.core import Webservice\n",
    "from azureml.exceptions import WebserviceException\n",
    "\n",
    "service_name = 'onnx-sign-recognition-service'\n",
    "\n",
    "# Remove any existing service under the same name.\n",
    "try:\n",
    "    Webservice(ws, service_name).delete()\n",
    "except WebserviceException:\n",
    "    pass\n",
    "\n",
    "service = Model.deploy(ws, service_name, [model])\n",
    "service.wait_for_deployment(show_output=True)"
   ]
  },
  {
   "cell_type": "code",
   "execution_count": 8,
   "metadata": {},
   "outputs": [
    {
     "name": "stdout",
     "output_type": "stream",
     "text": [
      "http://ca92fac2-a3e7-4c0a-8c01-9715d61a6fd4.southeastasia.azurecontainer.io/score\n",
      "400\n",
      "0:00:00.037556\n",
      "{'error_code': 400, 'error_message': 'Unexpected end of string. Expected a value.\\n\\n^'}\n"
     ]
    }
   ],
   "source": [
    "import requests\n",
    "\n",
    "headers = {'Content-Type': 'application/json', 'Accept': 'application/json'}\n",
    "\n",
    "if service.auth_enabled:\n",
    "    headers['Authorization'] = 'Bearer '+ service.get_keys()[0]\n",
    "elif service.token_auth_enabled:\n",
    "    headers['Authorization'] = 'Bearer '+ service.get_token()[0]\n",
    "\n",
    "scoring_uri = service.scoring_uri\n",
    "print(scoring_uri)\n",
    "with open('onnx-predict-input.json', 'rb') as data_file:\n",
    "    response = requests.post(\n",
    "        scoring_uri, data=data_file, headers=headers)\n",
    "print(response.status_code)\n",
    "print(response.elapsed)\n",
    "print(response.json())"
   ]
  },
  {
   "cell_type": "code",
   "execution_count": null,
   "metadata": {},
   "outputs": [],
   "source": []
  }
 ],
 "metadata": {
  "interpreter": {
   "hash": "5b2420cb912e7326c84290fb99c18229aa237bc4d003b3d47db3b129fb02d30f"
  },
  "kernelspec": {
   "display_name": "Python 3.9.7 64-bit ('venv': venv)",
   "language": "python",
   "name": "python3"
  },
  "language_info": {
   "codemirror_mode": {
    "name": "ipython",
    "version": 3
   },
   "file_extension": ".py",
   "mimetype": "text/x-python",
   "name": "python",
   "nbconvert_exporter": "python",
   "pygments_lexer": "ipython3",
   "version": "3.9.7"
  },
  "orig_nbformat": 4
 },
 "nbformat": 4,
 "nbformat_minor": 2
}
