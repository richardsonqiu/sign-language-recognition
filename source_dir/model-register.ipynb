{
 "cells": [
  {
   "cell_type": "code",
   "execution_count": 2,
   "metadata": {},
   "outputs": [
    {
     "name": "stdout",
     "output_type": "stream",
     "text": [
      "SDK version: 1.37.0\n"
     ]
    }
   ],
   "source": [
    "import azureml.core\n",
    "print('SDK version:', azureml.core.VERSION)"
   ]
  },
  {
   "cell_type": "code",
   "execution_count": 3,
   "metadata": {},
   "outputs": [
    {
     "data": {
      "text/plain": [
       "Workspace.create(name='SignRecognition', subscription_id='5aeeb535-21e1-4410-a3d0-539fa06445d7', resource_group='SignRecognition')"
      ]
     },
     "execution_count": 3,
     "metadata": {},
     "output_type": "execute_result"
    }
   ],
   "source": [
    "from azureml.core import Workspace\n",
    "\n",
    "ws = Workspace(subscription_id=\"5aeeb535-21e1-4410-a3d0-539fa06445d7\",\n",
    "               resource_group=\"SignRecognition\",\n",
    "               workspace_name=\"SignRecognition\")\n",
    "ws"
   ]
  },
  {
   "cell_type": "code",
   "execution_count": 16,
   "metadata": {},
   "outputs": [
    {
     "name": "stdout",
     "output_type": "stream",
     "text": [
      "Registering model glamorous-wave-11\n",
      "Name: glamorous-wave-11\n"
     ]
    }
   ],
   "source": [
    "from azureml.core import Model\n",
    "\n",
    "opset = 11\n",
    "\n",
    "model = Model.register(workspace=ws,\n",
    "                       model_name=f'glamorous-wave-{opset}',                  # Name of the registered model in your workspace.\n",
    "                       model_path=f'../deploy-model/gw-model/model/glamorous-wave-{opset}.onnx',              # Local ONNX model to upload and register as a model.\n",
    "                      #  model_framework=Model.Framework.ONNX ,      # Framework used to create the model.\n",
    "                      #  model_framework_version='1.3',              # Version of ONNX used to create the model.\n",
    "                       description='Onnx Sign Recognition model')\n",
    "\n",
    "print('Name:', model.name)"
   ]
  },
  {
   "cell_type": "code",
   "execution_count": 17,
   "metadata": {},
   "outputs": [
    {
     "name": "stdout",
     "output_type": "stream",
     "text": [
      "Tips: You can try get_logs(): https://aka.ms/debugimage#dockerlog or local deployment: https://aka.ms/debugimage#debug-locally to debug if deployment takes longer than 10 minutes.\n",
      "Running\n",
      "2021-12-30 15:32:41+08:00 Creating Container Registry if not exists.\n",
      "2021-12-30 15:32:41+08:00 Registering the environment.\n",
      "2021-12-30 15:32:43+08:00 Use the existing image.\n",
      "2021-12-30 15:32:44+08:00 Submitting deployment to compute.\n",
      "2021-12-30 15:32:51+08:00 Checking the status of deployment onnx-sign-recognition-service-11..\n",
      "2021-12-30 15:33:54+08:00 Checking the status of inference endpoint onnx-sign-recognition-service-11.\n",
      "Succeeded\n",
      "ACI service creation operation finished, operation \"Succeeded\"\n"
     ]
    }
   ],
   "source": [
    "from azureml.core import Webservice\n",
    "from azureml.exceptions import WebserviceException\n",
    "\n",
    "service_name = f'onnx-sign-recognition-service-{opset}'\n",
    "\n",
    "# Remove any existing service under the same name.\n",
    "try:\n",
    "    Webservice(ws, service_name).delete()\n",
    "except WebserviceException:\n",
    "    pass\n",
    "\n",
    "service = Model.deploy(ws, service_name, [model])\n",
    "service.wait_for_deployment(show_output=True)"
   ]
  },
  {
   "cell_type": "code",
   "execution_count": 20,
   "metadata": {},
   "outputs": [
    {
     "name": "stdout",
     "output_type": "stream",
     "text": [
      "http://7f16a863-1e4a-4b96-b55d-e11c7f9a4fa8.southeastasia.azurecontainer.io/score\n",
      "502\n",
      "0:00:00.155233\n",
      "{'error_code': 500, 'error_message': \"ONNX Runtime Status Code: 6. Non-zero status code returned while running Slice node. Name:'hcn/strided_slice' Status Message: /onnxruntime/include/onnxruntime/core/framework/op_kernel.h:90 const T* onnxruntime::OpKernelContext::Input(int) const [with T = onnxruntime::Tensor] Missing Input: input\\nStacktrace:\\n\"}\n"
     ]
    }
   ],
   "source": [
    "import requests\n",
    "\n",
    "headers = {'Content-Type': 'application/json', 'Accept': 'application/json'}\n",
    "\n",
    "if service.auth_enabled:\n",
    "    headers['Authorization'] = 'Bearer '+ service.get_keys()[0]\n",
    "elif service.token_auth_enabled:\n",
    "    headers['Authorization'] = 'Bearer '+ service.get_token()[0]\n",
    "\n",
    "scoring_uri = service.scoring_uri\n",
    "print(scoring_uri)\n",
    "with open('onnx-predict-input.json', 'rb') as data_file:\n",
    "    response = requests.post(\n",
    "        scoring_uri, data=data_file, headers=headers)\n",
    "print(response.status_code)\n",
    "print(response.elapsed)\n",
    "print(response.json())"
   ]
  },
  {
   "cell_type": "markdown",
   "metadata": {},
   "source": [
    "## Deploy"
   ]
  },
  {
   "cell_type": "markdown",
   "metadata": {},
   "source": [
    "#### Register model"
   ]
  },
  {
   "cell_type": "code",
   "execution_count": 54,
   "metadata": {},
   "outputs": [
    {
     "name": "stdout",
     "output_type": "stream",
     "text": [
      "Registering model glamorous-wave-9\n"
     ]
    }
   ],
   "source": [
    "m_name = \"glamorous-wave\"\n",
    "opset = 9\n",
    "model = Model.register(model_path = f\"../models/onnx/{m_name}-{opset}.onnx\",\n",
    "                       model_name=f'{m_name}-{opset}',\n",
    "                       tags = {\"onnx\": \"demo\"},\n",
    "                       description = \"ONNX Sign Recognition HCN\",\n",
    "                       workspace = ws)"
   ]
  },
  {
   "cell_type": "code",
   "execution_count": 55,
   "metadata": {},
   "outputs": [
    {
     "name": "stdout",
     "output_type": "stream",
     "text": [
      "Name: glamorous-wave \tVersion: 1 \tDescription:  {}\n",
      "Name: glamorous-wave-13 \tVersion: 1 \tDescription: Onnx Sign Recognition model {}\n",
      "Name: glamorous-wave-11 \tVersion: 1 \tDescription: Onnx Sign Recognition model {}\n",
      "Name: glamorous-wave-9 \tVersion: 2 \tDescription: ONNX Sign Recognition HCN {'onnx': 'demo'}\n"
     ]
    }
   ],
   "source": [
    "models = ws.models\n",
    "for name, m in models.items():\n",
    "    print(\"Name:\", name,\"\\tVersion:\", m.version, \"\\tDescription:\", m.description, m.tags)"
   ]
  },
  {
   "cell_type": "code",
   "execution_count": 56,
   "metadata": {},
   "outputs": [
    {
     "data": {
      "text/plain": [
       "{'glamorous-wave': Model(workspace=Workspace.create(name='SignRecognition', subscription_id='5aeeb535-21e1-4410-a3d0-539fa06445d7', resource_group='SignRecognition'), name=glamorous-wave, id=glamorous-wave:1, version=1, tags={}, properties={}),\n",
       " 'glamorous-wave-13': Model(workspace=Workspace.create(name='SignRecognition', subscription_id='5aeeb535-21e1-4410-a3d0-539fa06445d7', resource_group='SignRecognition'), name=glamorous-wave-13, id=glamorous-wave-13:1, version=1, tags={}, properties={}),\n",
       " 'glamorous-wave-11': Model(workspace=Workspace.create(name='SignRecognition', subscription_id='5aeeb535-21e1-4410-a3d0-539fa06445d7', resource_group='SignRecognition'), name=glamorous-wave-11, id=glamorous-wave-11:1, version=1, tags={}, properties={}),\n",
       " 'glamorous-wave-9': Model(workspace=Workspace.create(name='SignRecognition', subscription_id='5aeeb535-21e1-4410-a3d0-539fa06445d7', resource_group='SignRecognition'), name=glamorous-wave-9, id=glamorous-wave-9:2, version=2, tags={'onnx': 'demo'}, properties={})}"
      ]
     },
     "execution_count": 56,
     "metadata": {},
     "output_type": "execute_result"
    }
   ],
   "source": [
    "models"
   ]
  },
  {
   "cell_type": "markdown",
   "metadata": {},
   "source": [
    "## Setting up inference config"
   ]
  },
  {
   "cell_type": "code",
   "execution_count": 25,
   "metadata": {},
   "outputs": [],
   "source": [
    "from azureml.core.conda_dependencies import CondaDependencies \n",
    "\n",
    "myenv = CondaDependencies.create(pip_packages=[\"numpy\", \"onnxruntime\", \"azureml-core\", \"azureml-defaults\"])\n",
    "\n",
    "with open(\"myenv.yml\",\"w\") as f:\n",
    "    f.write(myenv.serialize_to_string())"
   ]
  },
  {
   "cell_type": "code",
   "execution_count": 26,
   "metadata": {},
   "outputs": [],
   "source": [
    "from azureml.core.model import InferenceConfig\n",
    "from azureml.core.environment import Environment\n",
    "\n",
    "myenv = Environment.from_conda_specification(name=\"myenv\", file_path=\"myenv.yml\")\n",
    "inference_config = InferenceConfig(entry_script=\"score.py\", environment=myenv)"
   ]
  },
  {
   "cell_type": "code",
   "execution_count": 57,
   "metadata": {},
   "outputs": [],
   "source": [
    "from azureml.core.webservice import AciWebservice\n",
    "\n",
    "aciconfig = AciWebservice.deploy_configuration(cpu_cores = 1, \n",
    "                                               memory_gb = 1, \n",
    "                                               tags = {'demo': 'onnx'}, \n",
    "                                               description = 'web service for Sign Recognition ONNX model')"
   ]
  },
  {
   "cell_type": "code",
   "execution_count": 58,
   "metadata": {},
   "outputs": [
    {
     "name": "stdout",
     "output_type": "stream",
     "text": [
      "Service aci-service-sign-recognition\n",
      "Tips: You can try get_logs(): https://aka.ms/debugimage#dockerlog or local deployment: https://aka.ms/debugimage#debug-locally to debug if deployment takes longer than 10 minutes.\n",
      "Running\n",
      "2021-12-30 22:51:05+08:00 Creating Container Registry if not exists.\n",
      "2021-12-30 22:51:05+08:00 Registering the environment.\n",
      "2021-12-30 22:51:06+08:00 Use the existing image.\n",
      "2021-12-30 22:51:06+08:00 Generating deployment configuration.\n",
      "2021-12-30 22:51:07+08:00 Submitting deployment to compute.\n",
      "2021-12-30 22:51:13+08:00 Checking the status of deployment aci-service-sign-recognition..\n",
      "2021-12-30 22:52:46+08:00 Checking the status of inference endpoint aci-service-sign-recognition.\n",
      "Succeeded\n",
      "ACI service creation operation finished, operation \"Succeeded\"\n",
      "Healthy\n"
     ]
    }
   ],
   "source": [
    "aci_service_name = 'aci-service-sign-recognition'\n",
    "print(\"Service\", aci_service_name)\n",
    "aci_service = Model.deploy(ws, aci_service_name, [model], inference_config, aciconfig)\n",
    "aci_service.wait_for_deployment(True)\n",
    "print(aci_service.state)"
   ]
  },
  {
   "cell_type": "code",
   "execution_count": 59,
   "metadata": {},
   "outputs": [
    {
     "name": "stdout",
     "output_type": "stream",
     "text": [
      "http://a0f6ee0c-5224-40a0-8399-1bdc54e1dd56.southeastasia.azurecontainer.io/score\n"
     ]
    }
   ],
   "source": [
    "print(aci_service.scoring_uri)"
   ]
  },
  {
   "cell_type": "markdown",
   "metadata": {},
   "source": [
    "# Consume"
   ]
  },
  {
   "cell_type": "code",
   "execution_count": null,
   "metadata": {},
   "outputs": [],
   "source": []
  }
 ],
 "metadata": {
  "interpreter": {
   "hash": "5b2420cb912e7326c84290fb99c18229aa237bc4d003b3d47db3b129fb02d30f"
  },
  "kernelspec": {
   "display_name": "Python 3.9.7 64-bit ('venv': venv)",
   "language": "python",
   "name": "python3"
  },
  "language_info": {
   "codemirror_mode": {
    "name": "ipython",
    "version": 3
   },
   "file_extension": ".py",
   "mimetype": "text/x-python",
   "name": "python",
   "nbconvert_exporter": "python",
   "pygments_lexer": "ipython3",
   "version": "3.9.7"
  },
  "orig_nbformat": 4
 },
 "nbformat": 4,
 "nbformat_minor": 2
}
